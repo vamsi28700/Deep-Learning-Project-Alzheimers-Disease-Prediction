{
  "nbformat": 4,
  "nbformat_minor": 0,
  "metadata": {
    "colab": {
      "name": "dl_project_logistic.ipynb",
      "provenance": []
    },
    "kernelspec": {
      "name": "python3",
      "display_name": "Python 3"
    },
    "language_info": {
      "name": "python"
    }
  },
  "cells": [
    {
      "cell_type": "code",
      "metadata": {
        "colab": {
          "resources": {
            "http://localhost:8080/nbextensions/google.colab/files.js": {
              "data": "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",
              "ok": true,
              "headers": [
                [
                  "content-type",
                  "application/javascript"
                ]
              ],
              "status": 200,
              "status_text": "OK"
            }
          },
          "base_uri": "https://localhost:8080/",
          "height": 90
        },
        "id": "J8aNqeYo1ggP",
        "outputId": "83de3ed0-f360-4964-af74-96aab13ff507"
      },
      "source": [
        "from google.colab import files\n",
        "files.upload() #upload kaggle.json"
      ],
      "execution_count": null,
      "outputs": [
        {
          "output_type": "display_data",
          "data": {
            "text/html": [
              "\n",
              "     <input type=\"file\" id=\"files-0ab46be5-49ce-4a18-90b1-14aa34399e18\" name=\"files[]\" multiple disabled\n",
              "        style=\"border:none\" />\n",
              "     <output id=\"result-0ab46be5-49ce-4a18-90b1-14aa34399e18\">\n",
              "      Upload widget is only available when the cell has been executed in the\n",
              "      current browser session. Please rerun this cell to enable.\n",
              "      </output>\n",
              "      <script src=\"/nbextensions/google.colab/files.js\"></script> "
            ],
            "text/plain": [
              "<IPython.core.display.HTML object>"
            ]
          },
          "metadata": {
            "tags": []
          }
        },
        {
          "output_type": "stream",
          "text": [
            "Saving kaggle.json to kaggle.json\n"
          ],
          "name": "stdout"
        },
        {
          "output_type": "execute_result",
          "data": {
            "text/plain": [
              "{'kaggle.json': b'{\"username\":\"visionkumarreddy\",\"key\":\"89e63a80b303b66fc21d89c25d488999\"}'}"
            ]
          },
          "metadata": {
            "tags": []
          },
          "execution_count": 1
        }
      ]
    },
    {
      "cell_type": "code",
      "metadata": {
        "id": "LCIOUEtO161q"
      },
      "source": [
        "!mkdir -p ~/.kaggle\n",
        "!cp kaggle.json ~/.kaggle/\n",
        "!chmod 600 ~/.kaggle/kaggle.json"
      ],
      "execution_count": null,
      "outputs": []
    },
    {
      "cell_type": "code",
      "metadata": {
        "colab": {
          "base_uri": "https://localhost:8080/"
        },
        "id": "adOhZaz91hca",
        "outputId": "0b7073ae-0182-4df4-8784-1d495aee5c4f"
      },
      "source": [
        "!kaggle datasets download -d jboysen/mri-and-alzheimers"
      ],
      "execution_count": null,
      "outputs": [
        {
          "output_type": "stream",
          "text": [
            "Downloading mri-and-alzheimers.zip to /content\n",
            "\r  0% 0.00/12.6k [00:00<?, ?B/s]\n",
            "\r100% 12.6k/12.6k [00:00<00:00, 5.14MB/s]\n"
          ],
          "name": "stdout"
        }
      ]
    },
    {
      "cell_type": "code",
      "metadata": {
        "colab": {
          "base_uri": "https://localhost:8080/"
        },
        "id": "5W3Z5KIA1rdF",
        "outputId": "dbacbca5-2b60-45fb-e29b-538bfee336a4"
      },
      "source": [
        "!unzip /content/mri-and-alzheimers.zip"
      ],
      "execution_count": null,
      "outputs": [
        {
          "output_type": "stream",
          "text": [
            "Archive:  /content/mri-and-alzheimers.zip\n",
            "  inflating: oasis_cross-sectional.csv  \n",
            "  inflating: oasis_longitudinal.csv  \n"
          ],
          "name": "stdout"
        }
      ]
    },
    {
      "cell_type": "code",
      "metadata": {
        "id": "ZnNFosrN1_u_"
      },
      "source": [
        "import pandas as pd\n",
        "import numpy as np \n",
        "%matplotlib inline\n",
        "import matplotlib.pyplot as plt\n",
        "from sklearn.utils import resample\n",
        "from sklearn.model_selection import train_test_split \n",
        "from sklearn.preprocessing import scale\n",
        "from sklearn.preprocessing import StandardScaler, MinMaxScaler\n"
      ],
      "execution_count": null,
      "outputs": []
    },
    {
      "cell_type": "code",
      "metadata": {
        "id": "H4qju3sj2KSq"
      },
      "source": [
        "from sklearn.linear_model import LogisticRegression\n",
        "from sklearn.tree import DecisionTreeClassifier\n",
        "from sklearn.metrics import confusion_matrix, precision_score, accuracy_score, recall_score, roc_curve, auc"
      ],
      "execution_count": null,
      "outputs": []
    },
    {
      "cell_type": "code",
      "metadata": {
        "id": "lzgfzIbN2PqY"
      },
      "source": [
        "data = pd.read_csv(\"/content/oasis_longitudinal.csv\")"
      ],
      "execution_count": null,
      "outputs": []
    },
    {
      "cell_type": "code",
      "metadata": {
        "id": "mdHc491Q2SmR"
      },
      "source": [
        "pd.set_option('display.max_columns', None) # will show the all columns with pandas dataframe\n",
        "pd.set_option('display.max_rows', None) # will show the all rows with pandas dataframe"
      ],
      "execution_count": null,
      "outputs": []
    },
    {
      "cell_type": "code",
      "metadata": {
        "colab": {
          "base_uri": "https://localhost:8080/",
          "height": 202
        },
        "id": "EAEc9ekW2VS-",
        "outputId": "280be2b6-a1ed-45c3-d0ff-c8f1e88d8dbb"
      },
      "source": [
        "data.head()"
      ],
      "execution_count": null,
      "outputs": [
        {
          "output_type": "execute_result",
          "data": {
            "text/html": [
              "<div>\n",
              "<style scoped>\n",
              "    .dataframe tbody tr th:only-of-type {\n",
              "        vertical-align: middle;\n",
              "    }\n",
              "\n",
              "    .dataframe tbody tr th {\n",
              "        vertical-align: top;\n",
              "    }\n",
              "\n",
              "    .dataframe thead th {\n",
              "        text-align: right;\n",
              "    }\n",
              "</style>\n",
              "<table border=\"1\" class=\"dataframe\">\n",
              "  <thead>\n",
              "    <tr style=\"text-align: right;\">\n",
              "      <th></th>\n",
              "      <th>Subject ID</th>\n",
              "      <th>MRI ID</th>\n",
              "      <th>Group</th>\n",
              "      <th>Visit</th>\n",
              "      <th>MR Delay</th>\n",
              "      <th>M/F</th>\n",
              "      <th>Hand</th>\n",
              "      <th>Age</th>\n",
              "      <th>EDUC</th>\n",
              "      <th>SES</th>\n",
              "      <th>MMSE</th>\n",
              "      <th>CDR</th>\n",
              "      <th>eTIV</th>\n",
              "      <th>nWBV</th>\n",
              "      <th>ASF</th>\n",
              "    </tr>\n",
              "  </thead>\n",
              "  <tbody>\n",
              "    <tr>\n",
              "      <th>0</th>\n",
              "      <td>OAS2_0001</td>\n",
              "      <td>OAS2_0001_MR1</td>\n",
              "      <td>Nondemented</td>\n",
              "      <td>1</td>\n",
              "      <td>0</td>\n",
              "      <td>M</td>\n",
              "      <td>R</td>\n",
              "      <td>87</td>\n",
              "      <td>14</td>\n",
              "      <td>2.0</td>\n",
              "      <td>27.0</td>\n",
              "      <td>0.0</td>\n",
              "      <td>1987</td>\n",
              "      <td>0.696</td>\n",
              "      <td>0.883</td>\n",
              "    </tr>\n",
              "    <tr>\n",
              "      <th>1</th>\n",
              "      <td>OAS2_0001</td>\n",
              "      <td>OAS2_0001_MR2</td>\n",
              "      <td>Nondemented</td>\n",
              "      <td>2</td>\n",
              "      <td>457</td>\n",
              "      <td>M</td>\n",
              "      <td>R</td>\n",
              "      <td>88</td>\n",
              "      <td>14</td>\n",
              "      <td>2.0</td>\n",
              "      <td>30.0</td>\n",
              "      <td>0.0</td>\n",
              "      <td>2004</td>\n",
              "      <td>0.681</td>\n",
              "      <td>0.876</td>\n",
              "    </tr>\n",
              "    <tr>\n",
              "      <th>2</th>\n",
              "      <td>OAS2_0002</td>\n",
              "      <td>OAS2_0002_MR1</td>\n",
              "      <td>Demented</td>\n",
              "      <td>1</td>\n",
              "      <td>0</td>\n",
              "      <td>M</td>\n",
              "      <td>R</td>\n",
              "      <td>75</td>\n",
              "      <td>12</td>\n",
              "      <td>NaN</td>\n",
              "      <td>23.0</td>\n",
              "      <td>0.5</td>\n",
              "      <td>1678</td>\n",
              "      <td>0.736</td>\n",
              "      <td>1.046</td>\n",
              "    </tr>\n",
              "    <tr>\n",
              "      <th>3</th>\n",
              "      <td>OAS2_0002</td>\n",
              "      <td>OAS2_0002_MR2</td>\n",
              "      <td>Demented</td>\n",
              "      <td>2</td>\n",
              "      <td>560</td>\n",
              "      <td>M</td>\n",
              "      <td>R</td>\n",
              "      <td>76</td>\n",
              "      <td>12</td>\n",
              "      <td>NaN</td>\n",
              "      <td>28.0</td>\n",
              "      <td>0.5</td>\n",
              "      <td>1738</td>\n",
              "      <td>0.713</td>\n",
              "      <td>1.010</td>\n",
              "    </tr>\n",
              "    <tr>\n",
              "      <th>4</th>\n",
              "      <td>OAS2_0002</td>\n",
              "      <td>OAS2_0002_MR3</td>\n",
              "      <td>Demented</td>\n",
              "      <td>3</td>\n",
              "      <td>1895</td>\n",
              "      <td>M</td>\n",
              "      <td>R</td>\n",
              "      <td>80</td>\n",
              "      <td>12</td>\n",
              "      <td>NaN</td>\n",
              "      <td>22.0</td>\n",
              "      <td>0.5</td>\n",
              "      <td>1698</td>\n",
              "      <td>0.701</td>\n",
              "      <td>1.034</td>\n",
              "    </tr>\n",
              "  </tbody>\n",
              "</table>\n",
              "</div>"
            ],
            "text/plain": [
              "  Subject ID         MRI ID        Group  Visit  MR Delay M/F Hand  Age  EDUC  \\\n",
              "0  OAS2_0001  OAS2_0001_MR1  Nondemented      1         0   M    R   87    14   \n",
              "1  OAS2_0001  OAS2_0001_MR2  Nondemented      2       457   M    R   88    14   \n",
              "2  OAS2_0002  OAS2_0002_MR1     Demented      1         0   M    R   75    12   \n",
              "3  OAS2_0002  OAS2_0002_MR2     Demented      2       560   M    R   76    12   \n",
              "4  OAS2_0002  OAS2_0002_MR3     Demented      3      1895   M    R   80    12   \n",
              "\n",
              "   SES  MMSE  CDR  eTIV   nWBV    ASF  \n",
              "0  2.0  27.0  0.0  1987  0.696  0.883  \n",
              "1  2.0  30.0  0.0  2004  0.681  0.876  \n",
              "2  NaN  23.0  0.5  1678  0.736  1.046  \n",
              "3  NaN  28.0  0.5  1738  0.713  1.010  \n",
              "4  NaN  22.0  0.5  1698  0.701  1.034  "
            ]
          },
          "metadata": {
            "tags": []
          },
          "execution_count": 10
        }
      ]
    },
    {
      "cell_type": "code",
      "metadata": {
        "colab": {
          "base_uri": "https://localhost:8080/"
        },
        "id": "-EPbsJsN2Y6z",
        "outputId": "80b84a45-93e0-459b-de72-066e77ea888d"
      },
      "source": [
        "data.shape"
      ],
      "execution_count": null,
      "outputs": [
        {
          "output_type": "execute_result",
          "data": {
            "text/plain": [
              "(373, 15)"
            ]
          },
          "metadata": {
            "tags": []
          },
          "execution_count": 11
        }
      ]
    },
    {
      "cell_type": "code",
      "metadata": {
        "colab": {
          "base_uri": "https://localhost:8080/"
        },
        "id": "J264gL0U2bTR",
        "outputId": "27b5fa70-ebf5-4084-984b-5dd8ec3c8ee0"
      },
      "source": [
        "data['M/F'] = [1 if each == \"M\" else 0 for each in data['M/F']]\n",
        "data['Group'] = [1 if each == \"Demented\" or each == \"Converted\" else 0 for each in data['Group']]\n",
        "# data['Group'] = data['Group'].replace(['Converted'], ['Demented']) # Target variable\n",
        "# data['Group'] = data['Group'].replace(['Demented', 'Nondemented'], [1,0]) # Target variable\n",
        "data.info()"
      ],
      "execution_count": null,
      "outputs": [
        {
          "output_type": "stream",
          "text": [
            "<class 'pandas.core.frame.DataFrame'>\n",
            "RangeIndex: 373 entries, 0 to 372\n",
            "Data columns (total 15 columns):\n",
            " #   Column      Non-Null Count  Dtype  \n",
            "---  ------      --------------  -----  \n",
            " 0   Subject ID  373 non-null    object \n",
            " 1   MRI ID      373 non-null    object \n",
            " 2   Group       373 non-null    int64  \n",
            " 3   Visit       373 non-null    int64  \n",
            " 4   MR Delay    373 non-null    int64  \n",
            " 5   M/F         373 non-null    int64  \n",
            " 6   Hand        373 non-null    object \n",
            " 7   Age         373 non-null    int64  \n",
            " 8   EDUC        373 non-null    int64  \n",
            " 9   SES         354 non-null    float64\n",
            " 10  MMSE        371 non-null    float64\n",
            " 11  CDR         373 non-null    float64\n",
            " 12  eTIV        373 non-null    int64  \n",
            " 13  nWBV        373 non-null    float64\n",
            " 14  ASF         373 non-null    float64\n",
            "dtypes: float64(5), int64(7), object(3)\n",
            "memory usage: 43.8+ KB\n"
          ],
          "name": "stdout"
        }
      ]
    },
    {
      "cell_type": "code",
      "metadata": {
        "colab": {
          "base_uri": "https://localhost:8080/"
        },
        "id": "GrGk-il-2dfu",
        "outputId": "abe1c6c0-141c-41bb-cb3d-77d4f82157f4"
      },
      "source": [
        "data.isnull().sum()"
      ],
      "execution_count": null,
      "outputs": [
        {
          "output_type": "execute_result",
          "data": {
            "text/plain": [
              "Subject ID     0\n",
              "MRI ID         0\n",
              "Group          0\n",
              "Visit          0\n",
              "MR Delay       0\n",
              "M/F            0\n",
              "Hand           0\n",
              "Age            0\n",
              "EDUC           0\n",
              "SES           19\n",
              "MMSE           2\n",
              "CDR            0\n",
              "eTIV           0\n",
              "nWBV           0\n",
              "ASF            0\n",
              "dtype: int64"
            ]
          },
          "metadata": {
            "tags": []
          },
          "execution_count": 13
        }
      ]
    },
    {
      "cell_type": "code",
      "metadata": {
        "colab": {
          "base_uri": "https://localhost:8080/"
        },
        "id": "tNS7Bl1A2g_O",
        "outputId": "eb0f7434-78cb-4ff1-eb69-4509182ee0d2"
      },
      "source": [
        "median = data['MMSE'].median()\n",
        "data['MMSE'].fillna(median, inplace=True)\n",
        "data.isnull().sum()"
      ],
      "execution_count": null,
      "outputs": [
        {
          "output_type": "execute_result",
          "data": {
            "text/plain": [
              "Subject ID     0\n",
              "MRI ID         0\n",
              "Group          0\n",
              "Visit          0\n",
              "MR Delay       0\n",
              "M/F            0\n",
              "Hand           0\n",
              "Age            0\n",
              "EDUC           0\n",
              "SES           19\n",
              "MMSE           0\n",
              "CDR            0\n",
              "eTIV           0\n",
              "nWBV           0\n",
              "ASF            0\n",
              "dtype: int64"
            ]
          },
          "metadata": {
            "tags": []
          },
          "execution_count": 14
        }
      ]
    },
    {
      "cell_type": "code",
      "metadata": {
        "colab": {
          "base_uri": "https://localhost:8080/"
        },
        "id": "-FQfym-02ivG",
        "outputId": "187865b2-1d9b-4d85-9a62-12b6f99b2ce6"
      },
      "source": [
        "median = data['SES'].median()\n",
        "data['SES'].fillna(median, inplace=True)\n",
        "data.isnull().sum()"
      ],
      "execution_count": null,
      "outputs": [
        {
          "output_type": "execute_result",
          "data": {
            "text/plain": [
              "Subject ID    0\n",
              "MRI ID        0\n",
              "Group         0\n",
              "Visit         0\n",
              "MR Delay      0\n",
              "M/F           0\n",
              "Hand          0\n",
              "Age           0\n",
              "EDUC          0\n",
              "SES           0\n",
              "MMSE          0\n",
              "CDR           0\n",
              "eTIV          0\n",
              "nWBV          0\n",
              "ASF           0\n",
              "dtype: int64"
            ]
          },
          "metadata": {
            "tags": []
          },
          "execution_count": 15
        }
      ]
    },
    {
      "cell_type": "code",
      "metadata": {
        "id": "INZ-y4mF2l2h"
      },
      "source": [
        ""
      ],
      "execution_count": null,
      "outputs": []
    },
    {
      "cell_type": "markdown",
      "metadata": {
        "id": "7Kud_t_G2q2V"
      },
      "source": [
        "## **Train-Test**"
      ]
    },
    {
      "cell_type": "code",
      "metadata": {
        "id": "x1nl7JMx2tn7"
      },
      "source": [
        "y = data['Group'].values\n",
        "X = data[['M/F', 'Age', 'EDUC', 'SES', 'MMSE', 'eTIV', 'nWBV', 'ASF']]"
      ],
      "execution_count": null,
      "outputs": []
    },
    {
      "cell_type": "code",
      "metadata": {
        "colab": {
          "base_uri": "https://localhost:8080/"
        },
        "id": "qCTyLOaJ2vs_",
        "outputId": "236f741e-369e-4ce8-a4a4-1cf63af291a8"
      },
      "source": [
        "# by default test_size= 0.25\n",
        "X_trainval, X_test, y_trainval, y_test = train_test_split(X, y, test_size= 0.30, random_state=32)\n",
        "\n",
        "df_ytrain = pd.DataFrame(y_trainval)\n",
        "df_ytest = pd.DataFrame(y_test)\n",
        "\n",
        "print('In Training Split:')\n",
        "print(df_ytrain[0].value_counts())\n",
        "\n",
        "print('\\nIn Testing Split:')\n",
        "print(df_ytest[0].value_counts())"
      ],
      "execution_count": null,
      "outputs": [
        {
          "output_type": "stream",
          "text": [
            "In Training Split:\n",
            "0    133\n",
            "1    128\n",
            "Name: 0, dtype: int64\n",
            "\n",
            "In Testing Split:\n",
            "0    57\n",
            "1    55\n",
            "Name: 0, dtype: int64\n"
          ],
          "name": "stdout"
        }
      ]
    },
    {
      "cell_type": "code",
      "metadata": {
        "id": "PooY4GtM20Tq"
      },
      "source": [
        "# here StandardScaler() means z = (x - u) / s\n",
        "scaler = StandardScaler().fit(X_trainval)\n",
        "#scaler = MinMaxScaler().fit(X_trainval)\n",
        "X_trainval_scaled = scaler.transform(X_trainval)\n",
        "X_test_scaled = scaler.transform(X_test)"
      ],
      "execution_count": null,
      "outputs": []
    },
    {
      "cell_type": "code",
      "metadata": {
        "colab": {
          "base_uri": "https://localhost:8080/",
          "height": 296
        },
        "id": "UvzR89uS22xq",
        "outputId": "d0c7c3ef-57ed-4277-fb82-8f45360ebba5"
      },
      "source": [
        "from sklearn.metrics import plot_confusion_matrix\n",
        "log_reg_model = LogisticRegression().fit(X_trainval_scaled, y_trainval)\n",
        "\n",
        "# for test there are 94 cases\n",
        "plot_confusion_matrix(log_reg_model, \n",
        "                      X_test_scaled, \n",
        "                      y_test, \n",
        "                      values_format='d', \n",
        "                      display_labels=['Nondemented', 'Demented'])\n"
      ],
      "execution_count": null,
      "outputs": [
        {
          "output_type": "execute_result",
          "data": {
            "text/plain": [
              "<sklearn.metrics._plot.confusion_matrix.ConfusionMatrixDisplay at 0x7f841baeed10>"
            ]
          },
          "metadata": {
            "tags": []
          },
          "execution_count": 67
        },
        {
          "output_type": "display_data",
          "data": {
            "image/png": "[encoded data removed]",
            "text/plain": [
              "<Figure size 432x288 with 2 Axes>"
            ]
          },
          "metadata": {
            "tags": [],
            "needs_background": "light"
          }
        }
      ]
    },
    {
      "cell_type": "code",
      "metadata": {
        "colab": {
          "base_uri": "https://localhost:8080/"
        },
        "id": "rAFHPufc3H6-",
        "outputId": "f4fbc879-ebb7-4006-d1fd-1e5d33857ead"
      },
      "source": [
        "train_score = 0\n",
        "test_score = 0\n",
        "test_recall = 0\n",
        "test_auc = 0\n",
        "\n",
        "log_reg_model = LogisticRegression().fit(X_trainval_scaled, y_trainval)\n",
        "train_score = log_reg_model.score(X_trainval_scaled, y_trainval)\n",
        "test_score = log_reg_model.score(X_test_scaled, y_test)\n",
        "scores = log_reg_model.score(X_test_scaled, y_test)\n",
        "y_predict = log_reg_model.predict(X_test_scaled)\n",
        "test_recall = recall_score(y_test, y_predict)\n",
        "fpr, tpr, thresholds = roc_curve(y_test, y_predict)\n",
        "test_auc = auc(fpr, tpr)\n",
        "\n",
        "\n",
        "print(\"Train accuracy \", train_score)\n",
        "print(\"Test accuracy \", test_score)\n",
        "print(\"Test recall\", test_recall)\n",
        "print(\"Test AUC\", test_auc)\n"
      ],
      "execution_count": null,
      "outputs": [
        {
          "output_type": "stream",
          "text": [
            "Train accuracy  0.8390804597701149\n",
            "Test accuracy  0.8125\n",
            "Test recall 0.7636363636363637\n",
            "Test AUC 0.8116427432216906\n"
          ],
          "name": "stdout"
        }
      ]
    },
    {
      "cell_type": "code",
      "metadata": {
        "id": "VcMuRwvt3VEM"
      },
      "source": [
        ""
      ],
      "execution_count": null,
      "outputs": []
    }
  ]
}