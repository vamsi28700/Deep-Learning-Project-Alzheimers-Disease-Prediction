{
  "nbformat": 4,
  "nbformat_minor": 0,
  "metadata": {
    "colab": {
      "name": "DL_Dataset.ipynb",
      "provenance": [],
      "collapsed_sections": []
    },
    "kernelspec": {
      "name": "python3",
      "display_name": "Python 3"
    },
    "language_info": {
      "name": "python"
    }
  },
  "cells": [
    {
      "cell_type": "code",
      "metadata": {
        "id": "KeVrKdtb_LLy"
      },
      "source": [
        "import numpy as np\n",
        "import pandas as pd\n",
        "df=pd.read_csv('/content/drive/MyDrive/dataset.csv')"
      ],
      "execution_count": null,
      "outputs": []
    },
    {
      "cell_type": "code",
      "metadata": {
        "colab": {
          "base_uri": "https://localhost:8080/",
          "height": 224
        },
        "id": "zTlhbh5c_b82",
        "outputId": "ab41fb77-4804-4e38-9bf3-a6128418c7c5"
      },
      "source": [
        "df.head()"
      ],
      "execution_count": null,
      "outputs": [
        {
          "output_type": "execute_result",
          "data": {
            "text/html": [
              "<div>\n",
              "<style scoped>\n",
              "    .dataframe tbody tr th:only-of-type {\n",
              "        vertical-align: middle;\n",
              "    }\n",
              "\n",
              "    .dataframe tbody tr th {\n",
              "        vertical-align: top;\n",
              "    }\n",
              "\n",
              "    .dataframe thead th {\n",
              "        text-align: right;\n",
              "    }\n",
              "</style>\n",
              "<table border=\"1\" class=\"dataframe\">\n",
              "  <thead>\n",
              "    <tr style=\"text-align: right;\">\n",
              "      <th></th>\n",
              "      <th>feeling.nervous</th>\n",
              "      <th>panic</th>\n",
              "      <th>breathing.rapidly</th>\n",
              "      <th>sweating</th>\n",
              "      <th>trouble.in.concentration</th>\n",
              "      <th>having.trouble.in.sleeping</th>\n",
              "      <th>having.trouble.with.work</th>\n",
              "      <th>hopelessness</th>\n",
              "      <th>anger</th>\n",
              "      <th>over.react</th>\n",
              "      <th>change.in.eating</th>\n",
              "      <th>suicidal.thought</th>\n",
              "      <th>feeling.tired</th>\n",
              "      <th>close.friend</th>\n",
              "      <th>social.media.addiction</th>\n",
              "      <th>weight.gain</th>\n",
              "      <th>material.possessions</th>\n",
              "      <th>introvert</th>\n",
              "      <th>popping.up.stressful.memory</th>\n",
              "      <th>having.nightmares</th>\n",
              "      <th>avoids.people.or.activities</th>\n",
              "      <th>feeling.negative</th>\n",
              "      <th>trouble.concentrating</th>\n",
              "      <th>blamming.yourself</th>\n",
              "      <th>Disorder</th>\n",
              "    </tr>\n",
              "  </thead>\n",
              "  <tbody>\n",
              "    <tr>\n",
              "      <th>0</th>\n",
              "      <td>yes</td>\n",
              "      <td>yes</td>\n",
              "      <td>yes</td>\n",
              "      <td>yes</td>\n",
              "      <td>yes</td>\n",
              "      <td>yes</td>\n",
              "      <td>no</td>\n",
              "      <td>no</td>\n",
              "      <td>no</td>\n",
              "      <td>no</td>\n",
              "      <td>no</td>\n",
              "      <td>no</td>\n",
              "      <td>no</td>\n",
              "      <td>no</td>\n",
              "      <td>no</td>\n",
              "      <td>no</td>\n",
              "      <td>no</td>\n",
              "      <td>no</td>\n",
              "      <td>no</td>\n",
              "      <td>no</td>\n",
              "      <td>no</td>\n",
              "      <td>no</td>\n",
              "      <td>no</td>\n",
              "      <td>no</td>\n",
              "      <td>Anxiety</td>\n",
              "    </tr>\n",
              "    <tr>\n",
              "      <th>1</th>\n",
              "      <td>no</td>\n",
              "      <td>no</td>\n",
              "      <td>no</td>\n",
              "      <td>no</td>\n",
              "      <td>no</td>\n",
              "      <td>no</td>\n",
              "      <td>yes</td>\n",
              "      <td>yes</td>\n",
              "      <td>yes</td>\n",
              "      <td>yes</td>\n",
              "      <td>yes</td>\n",
              "      <td>yes</td>\n",
              "      <td>no</td>\n",
              "      <td>no</td>\n",
              "      <td>no</td>\n",
              "      <td>no</td>\n",
              "      <td>no</td>\n",
              "      <td>no</td>\n",
              "      <td>no</td>\n",
              "      <td>no</td>\n",
              "      <td>no</td>\n",
              "      <td>no</td>\n",
              "      <td>no</td>\n",
              "      <td>no</td>\n",
              "      <td>Depression</td>\n",
              "    </tr>\n",
              "    <tr>\n",
              "      <th>2</th>\n",
              "      <td>no</td>\n",
              "      <td>no</td>\n",
              "      <td>no</td>\n",
              "      <td>no</td>\n",
              "      <td>no</td>\n",
              "      <td>no</td>\n",
              "      <td>no</td>\n",
              "      <td>no</td>\n",
              "      <td>no</td>\n",
              "      <td>no</td>\n",
              "      <td>no</td>\n",
              "      <td>no</td>\n",
              "      <td>yes</td>\n",
              "      <td>yes</td>\n",
              "      <td>yes</td>\n",
              "      <td>yes</td>\n",
              "      <td>yes</td>\n",
              "      <td>yes</td>\n",
              "      <td>no</td>\n",
              "      <td>no</td>\n",
              "      <td>no</td>\n",
              "      <td>no</td>\n",
              "      <td>no</td>\n",
              "      <td>no</td>\n",
              "      <td>Loneliness</td>\n",
              "    </tr>\n",
              "    <tr>\n",
              "      <th>3</th>\n",
              "      <td>no</td>\n",
              "      <td>no</td>\n",
              "      <td>no</td>\n",
              "      <td>no</td>\n",
              "      <td>no</td>\n",
              "      <td>no</td>\n",
              "      <td>no</td>\n",
              "      <td>no</td>\n",
              "      <td>no</td>\n",
              "      <td>no</td>\n",
              "      <td>no</td>\n",
              "      <td>no</td>\n",
              "      <td>no</td>\n",
              "      <td>no</td>\n",
              "      <td>no</td>\n",
              "      <td>no</td>\n",
              "      <td>no</td>\n",
              "      <td>no</td>\n",
              "      <td>yes</td>\n",
              "      <td>yes</td>\n",
              "      <td>yes</td>\n",
              "      <td>yes</td>\n",
              "      <td>yes</td>\n",
              "      <td>yes</td>\n",
              "      <td>Stress</td>\n",
              "    </tr>\n",
              "    <tr>\n",
              "      <th>4</th>\n",
              "      <td>no</td>\n",
              "      <td>no</td>\n",
              "      <td>no</td>\n",
              "      <td>no</td>\n",
              "      <td>no</td>\n",
              "      <td>no</td>\n",
              "      <td>no</td>\n",
              "      <td>no</td>\n",
              "      <td>no</td>\n",
              "      <td>no</td>\n",
              "      <td>no</td>\n",
              "      <td>no</td>\n",
              "      <td>no</td>\n",
              "      <td>no</td>\n",
              "      <td>no</td>\n",
              "      <td>no</td>\n",
              "      <td>no</td>\n",
              "      <td>no</td>\n",
              "      <td>no</td>\n",
              "      <td>no</td>\n",
              "      <td>no</td>\n",
              "      <td>no</td>\n",
              "      <td>no</td>\n",
              "      <td>no</td>\n",
              "      <td>Normal</td>\n",
              "    </tr>\n",
              "  </tbody>\n",
              "</table>\n",
              "</div>"
            ],
            "text/plain": [
              "  feeling.nervous panic  ... blamming.yourself    Disorder\n",
              "0             yes   yes  ...                no     Anxiety\n",
              "1              no    no  ...                no  Depression\n",
              "2              no    no  ...                no  Loneliness\n",
              "3              no    no  ...               yes      Stress\n",
              "4              no    no  ...                no      Normal\n",
              "\n",
              "[5 rows x 25 columns]"
            ]
          },
          "metadata": {
            "tags": []
          },
          "execution_count": 2
        }
      ]
    },
    {
      "cell_type": "code",
      "metadata": {
        "colab": {
          "base_uri": "https://localhost:8080/"
        },
        "id": "VcPVUjsbAq6G",
        "outputId": "5e25bfe1-ac5e-4d37-acc9-3db4ac15af3f"
      },
      "source": [
        "df.columns"
      ],
      "execution_count": null,
      "outputs": [
        {
          "output_type": "execute_result",
          "data": {
            "text/plain": [
              "Index(['feeling.nervous', 'panic', 'breathing.rapidly', 'sweating',\n",
              "       'trouble.in.concentration', 'having.trouble.in.sleeping',\n",
              "       'having.trouble.with.work', 'hopelessness', 'anger', 'over.react',\n",
              "       'change.in.eating', 'suicidal.thought', 'feeling.tired', 'close.friend',\n",
              "       'social.media.addiction', 'weight.gain', 'material.possessions',\n",
              "       'introvert', 'popping.up.stressful.memory', 'having.nightmares',\n",
              "       'avoids.people.or.activities', 'feeling.negative',\n",
              "       'trouble.concentrating', 'blamming.yourself', 'Disorder'],\n",
              "      dtype='object')"
            ]
          },
          "metadata": {
            "tags": []
          },
          "execution_count": 3
        }
      ]
    },
    {
      "cell_type": "code",
      "metadata": {
        "colab": {
          "base_uri": "https://localhost:8080/"
        },
        "id": "M-sMkGZOEfjQ",
        "outputId": "67e486e5-8b12-42b5-9f56-f53311b0dfad"
      },
      "source": [
        "df = df.replace('yes', 1)\n",
        "df = df.replace('no',0)\n",
        "print(df)"
      ],
      "execution_count": null,
      "outputs": [
        {
          "output_type": "stream",
          "text": [
            "       feeling.nervous  panic  ...  blamming.yourself    Disorder\n",
            "0                    1      1  ...                  0     Anxiety\n",
            "1                    0      0  ...                  0  Depression\n",
            "2                    0      0  ...                  0  Loneliness\n",
            "3                    0      0  ...                  1      Stress\n",
            "4                    0      0  ...                  0      Normal\n",
            "...                ...    ...  ...                ...         ...\n",
            "40955                1      1  ...                  0     Anxiety\n",
            "40956                0      0  ...                  0  Depression\n",
            "40957                0      0  ...                  0  Loneliness\n",
            "40958                0      0  ...                  1      Stress\n",
            "40959                0      0  ...                  0      Normal\n",
            "\n",
            "[40960 rows x 25 columns]\n"
          ],
          "name": "stdout"
        }
      ]
    },
    {
      "cell_type": "code",
      "metadata": {
        "colab": {
          "base_uri": "https://localhost:8080/"
        },
        "id": "paDNhmz3G5P4",
        "outputId": "92973162-4deb-4983-9cc3-d12eadf79b0c"
      },
      "source": [
        "df = df.replace('Anxiety', 1)\n",
        "df = df.replace('Depression', 2)\n",
        "df = df.replace('Loneliness', 3)\n",
        "df = df.replace('Stress', 4)\n",
        "df = df.replace('Normal', 5)\n",
        "print(df)"
      ],
      "execution_count": null,
      "outputs": [
        {
          "output_type": "stream",
          "text": [
            "       feeling.nervous  panic  ...  blamming.yourself  Disorder\n",
            "0                    1      1  ...                  0         1\n",
            "1                    0      0  ...                  0         2\n",
            "2                    0      0  ...                  0         3\n",
            "3                    0      0  ...                  1         4\n",
            "4                    0      0  ...                  0         5\n",
            "...                ...    ...  ...                ...       ...\n",
            "40955                1      1  ...                  0         1\n",
            "40956                0      0  ...                  0         2\n",
            "40957                0      0  ...                  0         3\n",
            "40958                0      0  ...                  1         4\n",
            "40959                0      0  ...                  0         5\n",
            "\n",
            "[40960 rows x 25 columns]\n"
          ],
          "name": "stdout"
        }
      ]
    },
    {
      "cell_type": "code",
      "metadata": {
        "colab": {
          "base_uri": "https://localhost:8080/",
          "height": 224
        },
        "id": "YFuC5UZPFkEq",
        "outputId": "570c32e1-54a8-4f75-825b-783b2b2103ea"
      },
      "source": [
        "df.head()"
      ],
      "execution_count": null,
      "outputs": [
        {
          "output_type": "execute_result",
          "data": {
            "text/html": [
              "<div>\n",
              "<style scoped>\n",
              "    .dataframe tbody tr th:only-of-type {\n",
              "        vertical-align: middle;\n",
              "    }\n",
              "\n",
              "    .dataframe tbody tr th {\n",
              "        vertical-align: top;\n",
              "    }\n",
              "\n",
              "    .dataframe thead th {\n",
              "        text-align: right;\n",
              "    }\n",
              "</style>\n",
              "<table border=\"1\" class=\"dataframe\">\n",
              "  <thead>\n",
              "    <tr style=\"text-align: right;\">\n",
              "      <th></th>\n",
              "      <th>feeling.nervous</th>\n",
              "      <th>panic</th>\n",
              "      <th>breathing.rapidly</th>\n",
              "      <th>sweating</th>\n",
              "      <th>trouble.in.concentration</th>\n",
              "      <th>having.trouble.in.sleeping</th>\n",
              "      <th>having.trouble.with.work</th>\n",
              "      <th>hopelessness</th>\n",
              "      <th>anger</th>\n",
              "      <th>over.react</th>\n",
              "      <th>change.in.eating</th>\n",
              "      <th>suicidal.thought</th>\n",
              "      <th>feeling.tired</th>\n",
              "      <th>close.friend</th>\n",
              "      <th>social.media.addiction</th>\n",
              "      <th>weight.gain</th>\n",
              "      <th>material.possessions</th>\n",
              "      <th>introvert</th>\n",
              "      <th>popping.up.stressful.memory</th>\n",
              "      <th>having.nightmares</th>\n",
              "      <th>avoids.people.or.activities</th>\n",
              "      <th>feeling.negative</th>\n",
              "      <th>trouble.concentrating</th>\n",
              "      <th>blamming.yourself</th>\n",
              "      <th>Disorder</th>\n",
              "    </tr>\n",
              "  </thead>\n",
              "  <tbody>\n",
              "    <tr>\n",
              "      <th>0</th>\n",
              "      <td>1</td>\n",
              "      <td>1</td>\n",
              "      <td>1</td>\n",
              "      <td>1</td>\n",
              "      <td>1</td>\n",
              "      <td>1</td>\n",
              "      <td>0</td>\n",
              "      <td>0</td>\n",
              "      <td>0</td>\n",
              "      <td>0</td>\n",
              "      <td>0</td>\n",
              "      <td>0</td>\n",
              "      <td>0</td>\n",
              "      <td>0</td>\n",
              "      <td>0</td>\n",
              "      <td>0</td>\n",
              "      <td>0</td>\n",
              "      <td>0</td>\n",
              "      <td>0</td>\n",
              "      <td>0</td>\n",
              "      <td>0</td>\n",
              "      <td>0</td>\n",
              "      <td>0</td>\n",
              "      <td>0</td>\n",
              "      <td>1</td>\n",
              "    </tr>\n",
              "    <tr>\n",
              "      <th>1</th>\n",
              "      <td>0</td>\n",
              "      <td>0</td>\n",
              "      <td>0</td>\n",
              "      <td>0</td>\n",
              "      <td>0</td>\n",
              "      <td>0</td>\n",
              "      <td>1</td>\n",
              "      <td>1</td>\n",
              "      <td>1</td>\n",
              "      <td>1</td>\n",
              "      <td>1</td>\n",
              "      <td>1</td>\n",
              "      <td>0</td>\n",
              "      <td>0</td>\n",
              "      <td>0</td>\n",
              "      <td>0</td>\n",
              "      <td>0</td>\n",
              "      <td>0</td>\n",
              "      <td>0</td>\n",
              "      <td>0</td>\n",
              "      <td>0</td>\n",
              "      <td>0</td>\n",
              "      <td>0</td>\n",
              "      <td>0</td>\n",
              "      <td>2</td>\n",
              "    </tr>\n",
              "    <tr>\n",
              "      <th>2</th>\n",
              "      <td>0</td>\n",
              "      <td>0</td>\n",
              "      <td>0</td>\n",
              "      <td>0</td>\n",
              "      <td>0</td>\n",
              "      <td>0</td>\n",
              "      <td>0</td>\n",
              "      <td>0</td>\n",
              "      <td>0</td>\n",
              "      <td>0</td>\n",
              "      <td>0</td>\n",
              "      <td>0</td>\n",
              "      <td>1</td>\n",
              "      <td>1</td>\n",
              "      <td>1</td>\n",
              "      <td>1</td>\n",
              "      <td>1</td>\n",
              "      <td>1</td>\n",
              "      <td>0</td>\n",
              "      <td>0</td>\n",
              "      <td>0</td>\n",
              "      <td>0</td>\n",
              "      <td>0</td>\n",
              "      <td>0</td>\n",
              "      <td>3</td>\n",
              "    </tr>\n",
              "    <tr>\n",
              "      <th>3</th>\n",
              "      <td>0</td>\n",
              "      <td>0</td>\n",
              "      <td>0</td>\n",
              "      <td>0</td>\n",
              "      <td>0</td>\n",
              "      <td>0</td>\n",
              "      <td>0</td>\n",
              "      <td>0</td>\n",
              "      <td>0</td>\n",
              "      <td>0</td>\n",
              "      <td>0</td>\n",
              "      <td>0</td>\n",
              "      <td>0</td>\n",
              "      <td>0</td>\n",
              "      <td>0</td>\n",
              "      <td>0</td>\n",
              "      <td>0</td>\n",
              "      <td>0</td>\n",
              "      <td>1</td>\n",
              "      <td>1</td>\n",
              "      <td>1</td>\n",
              "      <td>1</td>\n",
              "      <td>1</td>\n",
              "      <td>1</td>\n",
              "      <td>4</td>\n",
              "    </tr>\n",
              "    <tr>\n",
              "      <th>4</th>\n",
              "      <td>0</td>\n",
              "      <td>0</td>\n",
              "      <td>0</td>\n",
              "      <td>0</td>\n",
              "      <td>0</td>\n",
              "      <td>0</td>\n",
              "      <td>0</td>\n",
              "      <td>0</td>\n",
              "      <td>0</td>\n",
              "      <td>0</td>\n",
              "      <td>0</td>\n",
              "      <td>0</td>\n",
              "      <td>0</td>\n",
              "      <td>0</td>\n",
              "      <td>0</td>\n",
              "      <td>0</td>\n",
              "      <td>0</td>\n",
              "      <td>0</td>\n",
              "      <td>0</td>\n",
              "      <td>0</td>\n",
              "      <td>0</td>\n",
              "      <td>0</td>\n",
              "      <td>0</td>\n",
              "      <td>0</td>\n",
              "      <td>5</td>\n",
              "    </tr>\n",
              "  </tbody>\n",
              "</table>\n",
              "</div>"
            ],
            "text/plain": [
              "   feeling.nervous  panic  ...  blamming.yourself  Disorder\n",
              "0                1      1  ...                  0         1\n",
              "1                0      0  ...                  0         2\n",
              "2                0      0  ...                  0         3\n",
              "3                0      0  ...                  1         4\n",
              "4                0      0  ...                  0         5\n",
              "\n",
              "[5 rows x 25 columns]"
            ]
          },
          "metadata": {
            "tags": []
          },
          "execution_count": 6
        }
      ]
    },
    {
      "cell_type": "code",
      "metadata": {
        "id": "Fmy32JL3Fxqc"
      },
      "source": [
        "x,y=df,df.Disorder\n",
        "x.drop('Disorder',axis=1)\n",
        "df3=df.copy()\n",
        "del df['Disorder']\n",
        "from sklearn.model_selection import train_test_split\n",
        "x_train, x_test, y_train, y_test = train_test_split(x,y, test_size=0.25, random_state=0)"
      ],
      "execution_count": null,
      "outputs": []
    },
    {
      "cell_type": "code",
      "metadata": {
        "colab": {
          "base_uri": "https://localhost:8080/"
        },
        "id": "JBOSBY34F-Kl",
        "outputId": "153988ff-14c7-47da-bee7-79745a7465e3"
      },
      "source": [
        "from sklearn.linear_model import LogisticRegression\n",
        "logisticRegr = LogisticRegression()\n",
        "logisticRegr.fit(x_train, y_train)"
      ],
      "execution_count": null,
      "outputs": [
        {
          "output_type": "execute_result",
          "data": {
            "text/plain": [
              "LogisticRegression(C=1.0, class_weight=None, dual=False, fit_intercept=True,\n",
              "                   intercept_scaling=1, l1_ratio=None, max_iter=100,\n",
              "                   multi_class='auto', n_jobs=None, penalty='l2',\n",
              "                   random_state=None, solver='lbfgs', tol=0.0001, verbose=0,\n",
              "                   warm_start=False)"
            ]
          },
          "metadata": {
            "tags": []
          },
          "execution_count": 8
        }
      ]
    },
    {
      "cell_type": "code",
      "metadata": {
        "id": "ob8QxMdUHUer"
      },
      "source": [
        "import matplotlib.pyplot as plt\n",
        "import seaborn as sns\n",
        "from sklearn import metrics"
      ],
      "execution_count": null,
      "outputs": []
    },
    {
      "cell_type": "code",
      "metadata": {
        "id": "ud4EdOQUHmgM"
      },
      "source": [
        "a=pd.read_csv('/content/Test.csv')"
      ],
      "execution_count": null,
      "outputs": []
    },
    {
      "cell_type": "code",
      "metadata": {
        "id": "YSTi5gB9HgR1"
      },
      "source": [
        "predictions = logisticRegr.predict(x_test)"
      ],
      "execution_count": null,
      "outputs": []
    },
    {
      "cell_type": "code",
      "metadata": {
        "colab": {
          "base_uri": "https://localhost:8080/"
        },
        "id": "SQssITOpGyDE",
        "outputId": "9646ddf3-6d91-4d4b-aa19-227ad265d273"
      },
      "source": [
        "score = logisticRegr.score(x_test, y_test)\n",
        "print(\"Accuracy: \",score*100)"
      ],
      "execution_count": null,
      "outputs": [
        {
          "output_type": "stream",
          "text": [
            "Accuracy:  100.0\n"
          ],
          "name": "stdout"
        }
      ]
    },
    {
      "cell_type": "code",
      "metadata": {
        "colab": {
          "base_uri": "https://localhost:8080/"
        },
        "id": "cTSJM8n_HaLl",
        "outputId": "fc005a53-193e-42a0-b038-14bf4b5e1997"
      },
      "source": [
        "predictions"
      ],
      "execution_count": null,
      "outputs": [
        {
          "output_type": "execute_result",
          "data": {
            "text/plain": [
              "array([4, 4, 3, ..., 2, 3, 4])"
            ]
          },
          "metadata": {
            "tags": []
          },
          "execution_count": 17
        }
      ]
    },
    {
      "cell_type": "code",
      "metadata": {
        "colab": {
          "base_uri": "https://localhost:8080/"
        },
        "id": "udlFAiG9Hbbb",
        "outputId": "a6c4935a-07f8-4863-f367-791bd7ddcf27"
      },
      "source": [
        "cm = metrics.confusion_matrix(y_test, predictions)\n",
        "print(cm)"
      ],
      "execution_count": null,
      "outputs": [
        {
          "output_type": "stream",
          "text": [
            "[[1965    0    0    0    0]\n",
            " [   0 2058    0    0    0]\n",
            " [   0    0 2086    0    0]\n",
            " [   0    0    0 2062    0]\n",
            " [   0    0    0    0 2069]]\n"
          ],
          "name": "stdout"
        }
      ]
    },
    {
      "cell_type": "code",
      "metadata": {
        "id": "NHT1OibRHhcE"
      },
      "source": [
        "from sklearn.tree import DecisionTreeClassifier\n",
        "clf = DecisionTreeClassifier()\n",
        "clf = clf.fit(x_train,y_train)\n",
        "y_pred = clf.predict(x_test)"
      ],
      "execution_count": null,
      "outputs": []
    },
    {
      "cell_type": "code",
      "metadata": {
        "colab": {
          "base_uri": "https://localhost:8080/"
        },
        "id": "XRWZ-HuLNxYn",
        "outputId": "ceed4d09-80ce-4f1e-cb50-1cd5dc3e1be2"
      },
      "source": [
        "df.columns"
      ],
      "execution_count": null,
      "outputs": [
        {
          "output_type": "execute_result",
          "data": {
            "text/plain": [
              "Index(['feeling.nervous', 'panic', 'breathing.rapidly', 'sweating',\n",
              "       'trouble.in.concentration', 'having.trouble.in.sleeping',\n",
              "       'having.trouble.with.work', 'hopelessness', 'anger', 'over.react',\n",
              "       'change.in.eating', 'suicidal.thought', 'feeling.tired', 'close.friend',\n",
              "       'social.media.addiction', 'weight.gain', 'material.possessions',\n",
              "       'introvert', 'popping.up.stressful.memory', 'having.nightmares',\n",
              "       'avoids.people.or.activities', 'feeling.negative',\n",
              "       'trouble.concentrating', 'blamming.yourself'],\n",
              "      dtype='object')"
            ]
          },
          "metadata": {
            "tags": []
          },
          "execution_count": 14
        }
      ]
    },
    {
      "cell_type": "code",
      "metadata": {
        "id": "9wE9S2vj3iSD",
        "colab": {
          "base_uri": "https://localhost:8080/"
        },
        "outputId": "0a3baaf8-a83b-47b5-90e3-a4f0cf1231f3"
      },
      "source": [
        "print(\"Accuracy:\",metrics.accuracy_score(y_test, y_pred))"
      ],
      "execution_count": null,
      "outputs": [
        {
          "output_type": "stream",
          "text": [
            "Accuracy: 1.0\n"
          ],
          "name": "stdout"
        }
      ]
    },
    {
      "cell_type": "code",
      "metadata": {
        "colab": {
          "base_uri": "https://localhost:8080/",
          "height": 803
        },
        "id": "ih9S6tkOMDbN",
        "outputId": "fd48e802-8283-4824-eb32-a764c9beb873"
      },
      "source": [
        "from sklearn.tree import export_graphviz\n",
        "from sklearn.externals.six import StringIO  \n",
        "from IPython.display import Image  \n",
        "import pydotplus\n",
        "feature_cols = ['feeling.nervous', 'panic', 'breathing.rapidly', 'sweating',\n",
        "       'trouble.in.concentration', 'having.trouble.in.sleeping',\n",
        "       'having.trouble.with.work', 'hopelessness', 'anger', 'over.react',\n",
        "       'change.in.eating', 'suicidal.thought', 'feeling.tired', 'close.friend',\n",
        "       'social.media.addiction', 'weight.gain', 'material.possessions',\n",
        "       'introvert', 'popping.up.stressful.memory', 'having.nightmares',\n",
        "       'avoids.people.or.activities', 'feeling.negative',\n",
        "       'trouble.concentrating', 'blamming.yourself']\n",
        "dot_data = StringIO()\n",
        "export_graphviz(clf, out_file=dot_data,  \n",
        "                filled=True, rounded=True,\n",
        "                special_characters=True,feature_names = feature_cols,class_names=['1','2','3','4','5'])\n",
        "graph = pydotplus.graph_from_dot_data(dot_data.getvalue())  \n",
        "graph.write_png('Disorder.png')\n",
        "Image(graph.create_png())"
      ],
      "execution_count": null,
      "outputs": [
        {
          "output_type": "stream",
          "text": [
            "/usr/local/lib/python3.7/dist-packages/sklearn/externals/six.py:31: FutureWarning: The module is deprecated in version 0.21 and will be removed in version 0.23 since we've dropped support for Python 2.7. Please rely on the official version of six (https://pypi.org/project/six/).\n",
            "  \"(https://pypi.org/project/six/).\", FutureWarning)\n"
          ],
          "name": "stderr"
        },
        {
          "output_type": "execute_result",
          "data": {
            "image/png": "[encoded data removed]",
            "text/plain": [
              "<IPython.core.display.Image object>"
            ]
          },
          "metadata": {
            "tags": []
          },
          "execution_count": 16
        }
      ]
    },
    {
      "cell_type": "code",
      "metadata": {
        "id": "I9IoKEbAMFyc"
      },
      "source": [
        ""
      ],
      "execution_count": null,
      "outputs": []
    }
  ]
}