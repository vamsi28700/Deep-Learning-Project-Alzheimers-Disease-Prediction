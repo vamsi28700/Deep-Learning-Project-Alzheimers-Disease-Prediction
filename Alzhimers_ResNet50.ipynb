{
  "nbformat": 4,
  "nbformat_minor": 0,
  "metadata": {
    "colab": {
      "name": "Alzhimers ResNet50.ipynb",
      "provenance": [],
      "collapsed_sections": []
    },
    "kernelspec": {
      "name": "python3",
      "display_name": "Python 3"
    },
    "language_info": {
      "name": "python"
    },
    "accelerator": "GPU"
  },
  "cells": [
    {
      "cell_type": "code",
      "metadata": {
        "id": "VmJr1r7iuIMX"
      },
      "source": [
        "import numpy as np\n",
        "import pandas as pd\n",
        "import matplotlib.pyplot as plt\n",
        "import seaborn as sn\n",
        "import skimage.io\n",
        "import os \n",
        "import tqdm\n",
        "import glob\n",
        "import tensorflow \n",
        "\n",
        "from tqdm import tqdm\n",
        "from sklearn.utils import shuffle\n",
        "from sklearn import metrics\n",
        "from sklearn.metrics import confusion_matrix, classification_report\n",
        "from sklearn.model_selection import train_test_split\n",
        "\n",
        "from skimage.io import imread, imshow\n",
        "from skimage.transform import resize\n",
        "from skimage.color import grey2rgb\n",
        "\n",
        "import tensorflow as tf\n",
        "from tensorflow.keras.preprocessing.image import ImageDataGenerator\n",
        "from tensorflow.keras.preprocessing import image_dataset_from_directory\n",
        "from tensorflow.keras.models import Sequential\n",
        "from tensorflow.keras.layers import InputLayer, BatchNormalization, Dropout, Flatten, Dense, Activation, MaxPool2D, Conv2D\n",
        "from tensorflow.keras.callbacks import EarlyStopping, ModelCheckpoint\n",
        "from tensorflow.keras.applications.resnet50 import ResNet50\n",
        "from tensorflow.keras.utils import to_categorical\n",
        "from keras import optimizers\n",
        "\n",
        "from keras.callbacks import Callback,ModelCheckpoint\n",
        "from keras.models import Sequential,load_model\n",
        "from keras.layers import Dense, Dropout\n",
        "from keras.wrappers.scikit_learn import KerasClassifier\n",
        "import keras.backend as K\n",
        "from typeguard import typechecked\n",
        "from typing import Optional"
      ],
      "execution_count": null,
      "outputs": []
    },
    {
      "cell_type": "code",
      "metadata": {
        "id": "P7ERDAznuhSp"
      },
      "source": [
        "AUTOTUNE = tf.data.experimental.AUTOTUNE"
      ],
      "execution_count": null,
      "outputs": []
    },
    {
      "cell_type": "code",
      "metadata": {
        "id": "Vgy2pTQNum1o"
      },
      "source": [
        "train_datagen = ImageDataGenerator(rescale = 1./255,\n",
        "                                   validation_split = 0.2,\n",
        "                                  \n",
        "        rotation_range=5,\n",
        "        width_shift_range=0.2,\n",
        "        height_shift_range=0.2,\n",
        "        shear_range=0.2,\n",
        "        #zoom_range=0.2,\n",
        "        horizontal_flip=True,\n",
        "        vertical_flip=True,\n",
        "        fill_mode='nearest')\n",
        "\n",
        "valid_datagen = ImageDataGenerator(rescale = 1./255,\n",
        "                                  validation_split = 0.2)\n",
        "\n",
        "test_datagen  = ImageDataGenerator(rescale = 1./255\n",
        "                                  )"
      ],
      "execution_count": null,
      "outputs": []
    },
    {
      "cell_type": "code",
      "metadata": {
        "colab": {
          "base_uri": "https://localhost:8080/"
        },
        "id": "WfexXoGBupRA",
        "outputId": "13913e85-67dd-417b-f432-ab34efd4c664"
      },
      "source": [
        "train_dataset  = train_datagen.flow_from_directory(directory = '/content/drive/MyDrive/Alzheimer Dataset/Alzheimer_s Dataset/train',\n",
        "                                                   target_size = (224,224),\n",
        "                                                   class_mode = 'categorical',\n",
        "                                                   subset = 'training',\n",
        "                                                   batch_size = 32)"
      ],
      "execution_count": null,
      "outputs": [
        {
          "output_type": "stream",
          "text": [
            "Found 4098 images belonging to 4 classes.\n"
          ],
          "name": "stdout"
        }
      ]
    },
    {
      "cell_type": "code",
      "metadata": {
        "colab": {
          "base_uri": "https://localhost:8080/"
        },
        "id": "Nvg2PdgKu0fo",
        "outputId": "1aae224f-3feb-403e-b0b6-be8aaa95fd9d"
      },
      "source": [
        "valid_dataset = valid_datagen.flow_from_directory(directory = '/content/drive/MyDrive/Alzheimer Dataset/Alzheimer_s Dataset/train',\n",
        "                                                  target_size = (224,224),\n",
        "                                                  class_mode = 'categorical',\n",
        "                                                  subset = 'validation',\n",
        "                                                  batch_size = 32)"
      ],
      "execution_count": null,
      "outputs": [
        {
          "output_type": "stream",
          "text": [
            "Found 1023 images belonging to 4 classes.\n"
          ],
          "name": "stdout"
        }
      ]
    },
    {
      "cell_type": "code",
      "metadata": {
        "colab": {
          "base_uri": "https://localhost:8080/"
        },
        "id": "F_ClXZmxu59P",
        "outputId": "a572c7d3-6a2e-463c-9d1d-4197a2762aa0"
      },
      "source": [
        "test_dataset = test_datagen.flow_from_directory(directory = '/content/drive/MyDrive/Alzheimer Dataset/Alzheimer_s Dataset/test',\n",
        "                                                  target_size = (224,224),\n",
        "                                                  class_mode = 'categorical',\n",
        "                                                  batch_size = 32)"
      ],
      "execution_count": null,
      "outputs": [
        {
          "output_type": "stream",
          "text": [
            "Found 1279 images belonging to 4 classes.\n"
          ],
          "name": "stdout"
        }
      ]
    },
    {
      "cell_type": "markdown",
      "metadata": {
        "id": "NzIJJozzvHp6"
      },
      "source": [
        "Model Building"
      ]
    },
    {
      "cell_type": "code",
      "metadata": {
        "colab": {
          "base_uri": "https://localhost:8080/"
        },
        "id": "ipyUsIRzu_bH",
        "outputId": "cc27a519-ff10-4b11-c32a-92bdb15bbc8f"
      },
      "source": [
        "base_model = ResNet50(input_shape=(224,224,3), \n",
        "                   include_top=False,\n",
        "                   weights=\"imagenet\")"
      ],
      "execution_count": null,
      "outputs": [
        {
          "output_type": "stream",
          "text": [
            "Downloading data from https://storage.googleapis.com/tensorflow/keras-applications/resnet/resnet50_weights_tf_dim_ordering_tf_kernels_notop.h5\n",
            "94773248/94765736 [==============================] - 1s 0us/step\n"
          ],
          "name": "stdout"
        }
      ]
    },
    {
      "cell_type": "code",
      "metadata": {
        "id": "M7HOPUkpvCMv"
      },
      "source": [
        "for layer in base_model.layers:\n",
        "    layer.trainable=False"
      ],
      "execution_count": null,
      "outputs": []
    },
    {
      "cell_type": "code",
      "metadata": {
        "id": "1256UM1BvF3e"
      },
      "source": [
        "model=Sequential()\n",
        "model.add(base_model)\n",
        "model.add(Dropout(0.5))\n",
        "model.add(Flatten())\n",
        "model.add(BatchNormalization())\n",
        "model.add(Dense(64,kernel_initializer='he_uniform'))\n",
        "model.add(BatchNormalization())\n",
        "model.add(Activation('relu'))\n",
        "model.add(Dropout(0.5))\n",
        "model.add(Dense(64,kernel_initializer='he_uniform'))\n",
        "model.add(BatchNormalization())\n",
        "model.add(Activation('relu'))\n",
        "model.add(Dropout(0.5))\n",
        "model.add(Dense(64,kernel_initializer='he_uniform'))\n",
        "model.add(BatchNormalization())\n",
        "model.add(Activation('relu'))\n",
        "model.add(Dropout(0.5))\n",
        "model.add(Dense(32,kernel_initializer='he_uniform'))\n",
        "model.add(BatchNormalization())\n",
        "model.add(Activation('relu'))\n",
        "model.add(Dropout(0.5))\n",
        "model.add(Dense(32,kernel_initializer='he_uniform'))\n",
        "model.add(BatchNormalization())\n",
        "model.add(Activation('relu'))\n",
        "model.add(Dense(4,activation='softmax'))"
      ],
      "execution_count": null,
      "outputs": []
    },
    {
      "cell_type": "code",
      "metadata": {
        "colab": {
          "base_uri": "https://localhost:8080/"
        },
        "id": "GLlqGCGovNIu",
        "outputId": "906ab8b6-e33a-4478-b994-471553bf8c6d"
      },
      "source": [
        "model.summary()"
      ],
      "execution_count": null,
      "outputs": [
        {
          "output_type": "stream",
          "text": [
            "Model: \"sequential\"\n",
            "_________________________________________________________________\n",
            "Layer (type)                 Output Shape              Param #   \n",
            "=================================================================\n",
            "resnet50 (Functional)        (None, 7, 7, 2048)        23587712  \n",
            "_________________________________________________________________\n",
            "dropout (Dropout)            (None, 7, 7, 2048)        0         \n",
            "_________________________________________________________________\n",
            "flatten (Flatten)            (None, 100352)            0         \n",
            "_________________________________________________________________\n",
            "batch_normalization (BatchNo (None, 100352)            401408    \n",
            "_________________________________________________________________\n",
            "dense (Dense)                (None, 64)                6422592   \n",
            "_________________________________________________________________\n",
            "batch_normalization_1 (Batch (None, 64)                256       \n",
            "_________________________________________________________________\n",
            "activation (Activation)      (None, 64)                0         \n",
            "_________________________________________________________________\n",
            "dropout_1 (Dropout)          (None, 64)                0         \n",
            "_________________________________________________________________\n",
            "dense_1 (Dense)              (None, 64)                4160      \n",
            "_________________________________________________________________\n",
            "batch_normalization_2 (Batch (None, 64)                256       \n",
            "_________________________________________________________________\n",
            "activation_1 (Activation)    (None, 64)                0         \n",
            "_________________________________________________________________\n",
            "dropout_2 (Dropout)          (None, 64)                0         \n",
            "_________________________________________________________________\n",
            "dense_2 (Dense)              (None, 64)                4160      \n",
            "_________________________________________________________________\n",
            "batch_normalization_3 (Batch (None, 64)                256       \n",
            "_________________________________________________________________\n",
            "activation_2 (Activation)    (None, 64)                0         \n",
            "_________________________________________________________________\n",
            "dropout_3 (Dropout)          (None, 64)                0         \n",
            "_________________________________________________________________\n",
            "dense_3 (Dense)              (None, 32)                2080      \n",
            "_________________________________________________________________\n",
            "batch_normalization_4 (Batch (None, 32)                128       \n",
            "_________________________________________________________________\n",
            "activation_3 (Activation)    (None, 32)                0         \n",
            "_________________________________________________________________\n",
            "dropout_4 (Dropout)          (None, 32)                0         \n",
            "_________________________________________________________________\n",
            "dense_4 (Dense)              (None, 32)                1056      \n",
            "_________________________________________________________________\n",
            "batch_normalization_5 (Batch (None, 32)                128       \n",
            "_________________________________________________________________\n",
            "activation_4 (Activation)    (None, 32)                0         \n",
            "_________________________________________________________________\n",
            "dense_5 (Dense)              (None, 4)                 132       \n",
            "=================================================================\n",
            "Total params: 30,424,324\n",
            "Trainable params: 6,635,396\n",
            "Non-trainable params: 23,788,928\n",
            "_________________________________________________________________\n"
          ],
          "name": "stdout"
        }
      ]
    },
    {
      "cell_type": "code",
      "metadata": {
        "id": "BU696mXgvQ3d"
      },
      "source": [
        "def f1_score(y_true, y_pred): #taken from old keras source code\n",
        "    true_positives = K.sum(K.round(K.clip(y_true * y_pred, 0, 1)))\n",
        "    possible_positives = K.sum(K.round(K.clip(y_true, 0, 1)))\n",
        "    predicted_positives = K.sum(K.round(K.clip(y_pred, 0, 1)))\n",
        "    precision = true_positives / (predicted_positives + K.epsilon())\n",
        "    recall = true_positives / (possible_positives + K.epsilon())\n",
        "    f1_val = 2*(precision*recall)/(precision+recall+K.epsilon())\n",
        "    return f1_val"
      ],
      "execution_count": null,
      "outputs": []
    },
    {
      "cell_type": "code",
      "metadata": {
        "id": "-7rNrbJHvTeN"
      },
      "source": [
        "METRICS = [\n",
        "      tf.keras.metrics.BinaryAccuracy(name='accuracy'),\n",
        "      tf.keras.metrics.Precision(name='precision'),\n",
        "      tf.keras.metrics.Recall(name='recall'),  \n",
        "      tf.keras.metrics.AUC(name='auc'),\n",
        "        f1_score,\n",
        "]"
      ],
      "execution_count": null,
      "outputs": []
    },
    {
      "cell_type": "code",
      "metadata": {
        "id": "iCec8ke0vVql"
      },
      "source": [
        "def exponential_decay(lr0, s):\n",
        "    def exponential_decay_fn(epoch):\n",
        "        return lr0 * 0.1 **(epoch / s)\n",
        "    return exponential_decay_fn\n",
        "\n",
        "exponential_decay_fn = exponential_decay(0.01, 5) # when i run it for 50 epochs\n",
        "\n",
        "lr_scheduler = tf.keras.callbacks.LearningRateScheduler(exponential_decay_fn)"
      ],
      "execution_count": null,
      "outputs": []
    },
    {
      "cell_type": "code",
      "metadata": {
        "id": "tvnQU0K8vXwV"
      },
      "source": [
        "model.compile(optimizer='rmsprop', loss='categorical_crossentropy',metrics=METRICS)"
      ],
      "execution_count": null,
      "outputs": []
    },
    {
      "cell_type": "code",
      "metadata": {
        "colab": {
          "base_uri": "https://localhost:8080/"
        },
        "id": "5JtX8mykvZyl",
        "outputId": "10c72440-96e1-4227-ed8a-a17857bc4e72"
      },
      "source": [
        "history=model.fit(train_dataset,\n",
        "                        validation_data=valid_dataset,\n",
        "                        epochs = 20,\n",
        "                        verbose = 1,\n",
        "                         callbacks=lr_scheduler)"
      ],
      "execution_count": null,
      "outputs": [
        {
          "output_type": "stream",
          "text": [
            "Epoch 1/20\n",
            "129/129 [==============================] - 967s 7s/step - loss: 1.1760 - accuracy: 0.7456 - precision: 0.4754 - recall: 0.2401 - auc: 0.7372 - f1_score: 0.3092 - val_loss: 1.1300 - val_accuracy: 0.7500 - val_precision: 0.0000e+00 - val_recall: 0.0000e+00 - val_auc: 0.7315 - val_f1_score: 0.0000e+00\n",
            "Epoch 2/20\n",
            "129/129 [==============================] - 53s 411ms/step - loss: 1.0611 - accuracy: 0.7513 - precision: 0.4966 - recall: 0.2309 - auc: 0.7723 - f1_score: 0.3053 - val_loss: 1.0292 - val_accuracy: 0.7749 - val_precision: 0.6386 - val_recall: 0.2297 - val_auc: 0.8174 - val_f1_score: 0.3344\n",
            "Epoch 3/20\n",
            "129/129 [==============================] - 53s 407ms/step - loss: 1.0196 - accuracy: 0.7706 - precision: 0.5721 - recall: 0.3272 - auc: 0.7962 - f1_score: 0.4159 - val_loss: 1.0280 - val_accuracy: 0.7813 - val_precision: 0.6275 - val_recall: 0.3079 - val_auc: 0.8023 - val_f1_score: 0.4109\n",
            "Epoch 4/20\n",
            "129/129 [==============================] - 53s 408ms/step - loss: 1.0246 - accuracy: 0.7648 - precision: 0.5542 - recall: 0.3032 - auc: 0.7905 - f1_score: 0.3918 - val_loss: 1.0169 - val_accuracy: 0.7840 - val_precision: 0.6205 - val_recall: 0.3500 - val_auc: 0.8023 - val_f1_score: 0.4463\n",
            "Epoch 5/20\n",
            "129/129 [==============================] - 53s 409ms/step - loss: 0.9988 - accuracy: 0.7750 - precision: 0.5869 - recall: 0.3366 - auc: 0.8054 - f1_score: 0.4296 - val_loss: 1.0087 - val_accuracy: 0.7857 - val_precision: 0.6393 - val_recall: 0.3275 - val_auc: 0.8058 - val_f1_score: 0.4306\n",
            "Epoch 6/20\n",
            "129/129 [==============================] - 53s 408ms/step - loss: 1.0188 - accuracy: 0.7684 - precision: 0.5663 - recall: 0.3144 - auc: 0.7929 - f1_score: 0.3996 - val_loss: 1.0076 - val_accuracy: 0.7845 - val_precision: 0.6275 - val_recall: 0.3392 - val_auc: 0.8049 - val_f1_score: 0.4378\n",
            "Epoch 7/20\n",
            "129/129 [==============================] - 53s 408ms/step - loss: 1.0223 - accuracy: 0.7676 - precision: 0.5651 - recall: 0.3078 - auc: 0.7938 - f1_score: 0.3980 - val_loss: 1.0056 - val_accuracy: 0.7852 - val_precision: 0.6268 - val_recall: 0.3480 - val_auc: 0.8050 - val_f1_score: 0.4443\n",
            "Epoch 8/20\n",
            "129/129 [==============================] - 52s 407ms/step - loss: 1.0090 - accuracy: 0.7760 - precision: 0.5940 - recall: 0.3292 - auc: 0.8022 - f1_score: 0.4227 - val_loss: 1.0050 - val_accuracy: 0.7852 - val_precision: 0.6304 - val_recall: 0.3402 - val_auc: 0.8047 - val_f1_score: 0.4387\n",
            "Epoch 9/20\n",
            "129/129 [==============================] - 52s 407ms/step - loss: 0.9926 - accuracy: 0.7740 - precision: 0.5884 - recall: 0.3188 - auc: 0.8038 - f1_score: 0.4154 - val_loss: 1.0045 - val_accuracy: 0.7859 - val_precision: 0.6320 - val_recall: 0.3441 - val_auc: 0.8053 - val_f1_score: 0.4431\n",
            "Epoch 10/20\n",
            "129/129 [==============================] - 53s 407ms/step - loss: 1.0033 - accuracy: 0.7769 - precision: 0.5982 - recall: 0.3276 - auc: 0.7999 - f1_score: 0.4230 - val_loss: 1.0042 - val_accuracy: 0.7854 - val_precision: 0.6279 - val_recall: 0.3480 - val_auc: 0.8051 - val_f1_score: 0.4455\n",
            "Epoch 11/20\n",
            "129/129 [==============================] - 53s 407ms/step - loss: 1.0088 - accuracy: 0.7745 - precision: 0.5879 - recall: 0.3277 - auc: 0.8018 - f1_score: 0.4212 - val_loss: 1.0036 - val_accuracy: 0.7859 - val_precision: 0.6306 - val_recall: 0.3470 - val_auc: 0.8051 - val_f1_score: 0.4457\n",
            "Epoch 12/20\n",
            "129/129 [==============================] - 53s 407ms/step - loss: 0.9998 - accuracy: 0.7754 - precision: 0.5926 - recall: 0.3259 - auc: 0.8007 - f1_score: 0.4183 - val_loss: 1.0042 - val_accuracy: 0.7842 - val_precision: 0.6224 - val_recall: 0.3480 - val_auc: 0.8049 - val_f1_score: 0.4447\n",
            "Epoch 13/20\n",
            "129/129 [==============================] - 53s 407ms/step - loss: 1.0064 - accuracy: 0.7727 - precision: 0.5840 - recall: 0.3143 - auc: 0.7993 - f1_score: 0.4082 - val_loss: 1.0038 - val_accuracy: 0.7854 - val_precision: 0.6292 - val_recall: 0.3451 - val_auc: 0.8054 - val_f1_score: 0.4435\n",
            "Epoch 14/20\n",
            "129/129 [==============================] - 52s 406ms/step - loss: 1.0120 - accuracy: 0.7755 - precision: 0.5936 - recall: 0.3232 - auc: 0.8028 - f1_score: 0.4223 - val_loss: 1.0041 - val_accuracy: 0.7857 - val_precision: 0.6299 - val_recall: 0.3460 - val_auc: 0.8047 - val_f1_score: 0.4440\n",
            "Epoch 15/20\n",
            "129/129 [==============================] - 52s 406ms/step - loss: 1.0050 - accuracy: 0.7778 - precision: 0.5987 - recall: 0.3376 - auc: 0.8049 - f1_score: 0.4322 - val_loss: 1.0035 - val_accuracy: 0.7857 - val_precision: 0.6299 - val_recall: 0.3460 - val_auc: 0.8050 - val_f1_score: 0.4441\n",
            "Epoch 16/20\n",
            "129/129 [==============================] - 53s 407ms/step - loss: 1.0092 - accuracy: 0.7734 - precision: 0.5832 - recall: 0.3285 - auc: 0.8018 - f1_score: 0.4203 - val_loss: 1.0039 - val_accuracy: 0.7857 - val_precision: 0.6304 - val_recall: 0.3451 - val_auc: 0.8048 - val_f1_score: 0.4449\n",
            "Epoch 17/20\n",
            "129/129 [==============================] - 53s 411ms/step - loss: 1.0030 - accuracy: 0.7768 - precision: 0.5975 - recall: 0.3283 - auc: 0.8033 - f1_score: 0.4169 - val_loss: 1.0038 - val_accuracy: 0.7854 - val_precision: 0.6292 - val_recall: 0.3451 - val_auc: 0.8050 - val_f1_score: 0.4434\n",
            "Epoch 18/20\n",
            "129/129 [==============================] - 53s 408ms/step - loss: 0.9909 - accuracy: 0.7766 - precision: 0.5929 - recall: 0.3389 - auc: 0.8071 - f1_score: 0.4320 - val_loss: 1.0040 - val_accuracy: 0.7837 - val_precision: 0.6202 - val_recall: 0.3480 - val_auc: 0.8046 - val_f1_score: 0.4437\n",
            "Epoch 19/20\n",
            "129/129 [==============================] - 53s 407ms/step - loss: 0.9938 - accuracy: 0.7732 - precision: 0.5852 - recall: 0.3192 - auc: 0.8046 - f1_score: 0.4133 - val_loss: 1.0034 - val_accuracy: 0.7852 - val_precision: 0.6272 - val_recall: 0.3470 - val_auc: 0.8053 - val_f1_score: 0.4444\n",
            "Epoch 20/20\n",
            "129/129 [==============================] - 52s 406ms/step - loss: 1.0085 - accuracy: 0.7728 - precision: 0.5839 - recall: 0.3172 - auc: 0.7993 - f1_score: 0.4089 - val_loss: 1.0039 - val_accuracy: 0.7852 - val_precision: 0.6281 - val_recall: 0.3451 - val_auc: 0.8048 - val_f1_score: 0.4444\n"
          ],
          "name": "stdout"
        }
      ]
    },
    {
      "cell_type": "code",
      "metadata": {
        "colab": {
          "base_uri": "https://localhost:8080/",
          "height": 370
        },
        "id": "cneEthf3vbxU",
        "outputId": "727b5a29-e797-4afb-cc88-bc6a2f5ec180"
      },
      "source": [
        "def Train_Val_Plot(acc,val_acc,loss,val_loss,auc,val_auc,precision,val_precision,f1,val_f1):\n",
        "    \n",
        "    fig, (ax1, ax2,ax3,ax4,ax5) = plt.subplots(1,5, figsize= (20,5))\n",
        "    fig.suptitle(\" MODEL'S METRICS VISUALIZATION \")\n",
        "\n",
        "    ax1.plot(range(1, len(acc) + 1), acc)\n",
        "    ax1.plot(range(1, len(val_acc) + 1), val_acc)\n",
        "    ax1.set_title('History of Accuracy')\n",
        "    ax1.set_xlabel('Epochs')\n",
        "    ax1.set_ylabel('Accuracy')\n",
        "    ax1.legend(['training', 'validation'])\n",
        "\n",
        "\n",
        "    ax2.plot(range(1, len(loss) + 1), loss)\n",
        "    ax2.plot(range(1, len(val_loss) + 1), val_loss)\n",
        "    ax2.set_title('History of Loss')\n",
        "    ax2.set_xlabel('Epochs')\n",
        "    ax2.set_ylabel('Loss')\n",
        "    ax2.legend(['training', 'validation'])\n",
        "    \n",
        "    ax3.plot(range(1, len(auc) + 1), auc)\n",
        "    ax3.plot(range(1, len(val_auc) + 1), val_auc)\n",
        "    ax3.set_title('History of AUC')\n",
        "    ax3.set_xlabel('Epochs')\n",
        "    ax3.set_ylabel('AUC')\n",
        "    ax3.legend(['training', 'validation'])\n",
        "    \n",
        "    ax4.plot(range(1, len(precision) + 1), precision)\n",
        "    ax4.plot(range(1, len(val_precision) + 1), val_precision)\n",
        "    ax4.set_title('History of Precision')\n",
        "    ax4.set_xlabel('Epochs')\n",
        "    ax4.set_ylabel('Precision')\n",
        "    ax4.legend(['training', 'validation'])\n",
        "    \n",
        "    ax5.plot(range(1, len(f1) + 1), f1)\n",
        "    ax5.plot(range(1, len(val_f1) + 1), val_f1)\n",
        "    ax5.set_title('History of F1-score')\n",
        "    ax5.set_xlabel('Epochs')\n",
        "    ax5.set_ylabel('F1 score')\n",
        "    ax5.legend(['training', 'validation'])\n",
        "\n",
        "\n",
        "    plt.show()\n",
        "    \n",
        "\n",
        "Train_Val_Plot(history.history['accuracy'],history.history['val_accuracy'],\n",
        "               history.history['loss'],history.history['val_loss'],\n",
        "               history.history['auc'],history.history['val_auc'],\n",
        "               history.history['precision'],history.history['val_precision'],\n",
        "               history.history['f1_score'],history.history['val_f1_score']\n",
        "              )"
      ],
      "execution_count": null,
      "outputs": [
        {
          "output_type": "display_data",
          "data": {
            "image/png": "[encoded data removed]",
            "text/plain": [
              "<Figure size 1440x360 with 5 Axes>"
            ]
          },
          "metadata": {
            "tags": [],
            "needs_background": "light"
          }
        }
      ]
    },
    {
      "cell_type": "code",
      "metadata": {
        "colab": {
          "base_uri": "https://localhost:8080/"
        },
        "id": "Qrhwp-PE3CHa",
        "outputId": "ef87386d-743f-43c3-ea2c-45576c967e74"
      },
      "source": [
        "scores = model.evaluate_generator(test_dataset)"
      ],
      "execution_count": null,
      "outputs": [
        {
          "output_type": "stream",
          "text": [
            "/usr/local/lib/python3.7/dist-packages/tensorflow/python/keras/engine/training.py:1877: UserWarning: `Model.evaluate_generator` is deprecated and will be removed in a future version. Please use `Model.evaluate`, which supports generators.\n",
            "  warnings.warn('`Model.evaluate_generator` is deprecated and '\n"
          ],
          "name": "stderr"
        }
      ]
    },
    {
      "cell_type": "code",
      "metadata": {
        "colab": {
          "base_uri": "https://localhost:8080/"
        },
        "id": "9xguDsBA3E4Q",
        "outputId": "cde23ce4-eb7b-4a1a-f040-9f15481383ca"
      },
      "source": [
        "print(\"Accuracy = \", scores[1])\n",
        "print(\"Precision = \", scores[2])\n",
        "print(\"Recall = \", scores[3])\n",
        "print(\"AUC = \", scores[4])\n",
        "print(\"F1_score = \", scores[5])"
      ],
      "execution_count": null,
      "outputs": [
        {
          "output_type": "stream",
          "text": [
            "Accuracy =  0.769351065158844\n",
            "Precision =  0.6008146405220032\n",
            "Recall =  0.2306489497423172\n",
            "AUC =  0.8003953099250793\n",
            "F1_score =  0.3300856947898865\n"
          ],
          "name": "stdout"
        }
      ]
    },
    {
      "cell_type": "code",
      "metadata": {
        "id": "z2P1C_Uw37DA"
      },
      "source": [
        ""
      ],
      "execution_count": null,
      "outputs": []
    }
  ]
}