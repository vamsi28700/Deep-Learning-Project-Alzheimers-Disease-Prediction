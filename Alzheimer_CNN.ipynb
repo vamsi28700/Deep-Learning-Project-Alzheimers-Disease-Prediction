{
  "nbformat": 4,
  "nbformat_minor": 5,
  "metadata": {
    "kernelspec": {
      "display_name": "Python 3",
      "language": "python",
      "name": "python3"
    },
    "language_info": {
      "codemirror_mode": {
        "name": "ipython",
        "version": 3
      },
      "file_extension": ".py",
      "mimetype": "text/x-python",
      "name": "python",
      "nbconvert_exporter": "python",
      "pygments_lexer": "ipython3",
      "version": "3.7.10"
    },
    "colab": {
      "name": "Alzheimer CNN.ipynb",
      "provenance": []
    }
  },
  "cells": [
    {
      "cell_type": "code",
      "metadata": {
        "id": "addressed-vampire",
        "outputId": "0e26ccaf-c6a8-402c-f381-f2280d96c2b8"
      },
      "source": [
        "from collections import Counter\n",
        "import cv2\n",
        "import os\n",
        "import glob\n",
        "import skimage\n",
        "import numpy as np\n",
        "import pandas as pd\n",
        "import seaborn as sn\n",
        "from sklearn import preprocessing\n",
        "from tqdm import tqdm\n",
        "from PIL import Image\n",
        "from os import listdir\n",
        "import matplotlib.pyplot as plt\n",
        "from skimage.transform import resize\n",
        "from collections import Counter\n",
        "\n",
        "sn.set()\n",
        "\n",
        "from sklearn.svm import SVC # SVC\n",
        "from sklearn import metrics\n",
        "from sklearn.utils import shuffle\n",
        "from xgboost import XGBClassifier # XGBClassifier\n",
        "from sklearn import metrics\n",
        "from sklearn.metrics import confusion_matrix, classification_report\n",
        "from sklearn.utils import compute_class_weight\n",
        "from sklearn.preprocessing import MinMaxScaler,LabelBinarizer\n",
        "from sklearn.ensemble import AdaBoostClassifier # AdaBoostClassifier\n",
        "from sklearn.neighbors import KNeighborsClassifier # KNeighborsClassifier\n",
        "from sklearn.ensemble import RandomForestClassifier # RandomForestClassifier\n",
        "from sklearn.model_selection import train_test_split\n",
        "\n",
        "import tensorflow \n",
        "from tensorflow.keras.utils import to_categorical\n",
        "from tensorflow.keras.metrics import AUC\n",
        "from tensorflow.keras.preprocessing import image\n",
        "from tensorflow.keras.models import Model, Sequential\n",
        "from tensorflow.keras.applications.vgg16 import VGG16 # VGG16\n",
        "from tensorflow.keras.applications.vgg19 import VGG19 # VGG19\n",
        "from tensorflow.keras.applications.resnet50 import ResNet50 # ResNet50\n",
        "from tensorflow.keras.applications.xception import Xception # Xception\n",
        "from tensorflow.keras.applications.mobilenet import MobileNet # MobileNet\n",
        "from tensorflow.keras.applications.nasnet import NASNetMobile # NASNetMobile\n",
        "from tensorflow.keras.applications.densenet import DenseNet169 # DenseNet169\n",
        "from tensorflow.keras.applications.densenet import DenseNet121 # DenseNet121\n",
        "from tensorflow.keras.applications.mobilenet_v2 import MobileNetV2 # MobileNetV2\n",
        "from tensorflow.keras.applications.inception_v3 import InceptionV3 # InceptionV3\n",
        "from tensorflow.keras.layers import Input, Dense, Dropout, BatchNormalization, Flatten, Activation, GlobalAveragePooling2D,Conv2D, MaxPooling2D\n",
        "from tensorflow.keras.callbacks import EarlyStopping, ModelCheckpoint"
      ],
      "id": "addressed-vampire",
      "execution_count": null,
      "outputs": [
        {
          "output_type": "stream",
          "text": [
            "C:\\Users\\Krishna Vamsi\\anaconda3\\envs\\tensorenv\\lib\\site-packages\\tensorflow\\python\\framework\\dtypes.py:516: FutureWarning: Passing (type, 1) or '1type' as a synonym of type is deprecated; in a future version of numpy, it will be understood as (type, (1,)) / '(1,)type'.\n",
            "  _np_qint8 = np.dtype([(\"qint8\", np.int8, 1)])\n",
            "C:\\Users\\Krishna Vamsi\\anaconda3\\envs\\tensorenv\\lib\\site-packages\\tensorflow\\python\\framework\\dtypes.py:517: FutureWarning: Passing (type, 1) or '1type' as a synonym of type is deprecated; in a future version of numpy, it will be understood as (type, (1,)) / '(1,)type'.\n",
            "  _np_quint8 = np.dtype([(\"quint8\", np.uint8, 1)])\n",
            "C:\\Users\\Krishna Vamsi\\anaconda3\\envs\\tensorenv\\lib\\site-packages\\tensorflow\\python\\framework\\dtypes.py:518: FutureWarning: Passing (type, 1) or '1type' as a synonym of type is deprecated; in a future version of numpy, it will be understood as (type, (1,)) / '(1,)type'.\n",
            "  _np_qint16 = np.dtype([(\"qint16\", np.int16, 1)])\n",
            "C:\\Users\\Krishna Vamsi\\anaconda3\\envs\\tensorenv\\lib\\site-packages\\tensorflow\\python\\framework\\dtypes.py:519: FutureWarning: Passing (type, 1) or '1type' as a synonym of type is deprecated; in a future version of numpy, it will be understood as (type, (1,)) / '(1,)type'.\n",
            "  _np_quint16 = np.dtype([(\"quint16\", np.uint16, 1)])\n",
            "C:\\Users\\Krishna Vamsi\\anaconda3\\envs\\tensorenv\\lib\\site-packages\\tensorflow\\python\\framework\\dtypes.py:520: FutureWarning: Passing (type, 1) or '1type' as a synonym of type is deprecated; in a future version of numpy, it will be understood as (type, (1,)) / '(1,)type'.\n",
            "  _np_qint32 = np.dtype([(\"qint32\", np.int32, 1)])\n",
            "C:\\Users\\Krishna Vamsi\\anaconda3\\envs\\tensorenv\\lib\\site-packages\\tensorflow\\python\\framework\\dtypes.py:525: FutureWarning: Passing (type, 1) or '1type' as a synonym of type is deprecated; in a future version of numpy, it will be understood as (type, (1,)) / '(1,)type'.\n",
            "  np_resource = np.dtype([(\"resource\", np.ubyte, 1)])\n",
            "C:\\Users\\Krishna Vamsi\\anaconda3\\envs\\tensorenv\\lib\\site-packages\\tensorboard\\compat\\tensorflow_stub\\dtypes.py:541: FutureWarning: Passing (type, 1) or '1type' as a synonym of type is deprecated; in a future version of numpy, it will be understood as (type, (1,)) / '(1,)type'.\n",
            "  _np_qint8 = np.dtype([(\"qint8\", np.int8, 1)])\n",
            "C:\\Users\\Krishna Vamsi\\anaconda3\\envs\\tensorenv\\lib\\site-packages\\tensorboard\\compat\\tensorflow_stub\\dtypes.py:542: FutureWarning: Passing (type, 1) or '1type' as a synonym of type is deprecated; in a future version of numpy, it will be understood as (type, (1,)) / '(1,)type'.\n",
            "  _np_quint8 = np.dtype([(\"quint8\", np.uint8, 1)])\n",
            "C:\\Users\\Krishna Vamsi\\anaconda3\\envs\\tensorenv\\lib\\site-packages\\tensorboard\\compat\\tensorflow_stub\\dtypes.py:543: FutureWarning: Passing (type, 1) or '1type' as a synonym of type is deprecated; in a future version of numpy, it will be understood as (type, (1,)) / '(1,)type'.\n",
            "  _np_qint16 = np.dtype([(\"qint16\", np.int16, 1)])\n",
            "C:\\Users\\Krishna Vamsi\\anaconda3\\envs\\tensorenv\\lib\\site-packages\\tensorboard\\compat\\tensorflow_stub\\dtypes.py:544: FutureWarning: Passing (type, 1) or '1type' as a synonym of type is deprecated; in a future version of numpy, it will be understood as (type, (1,)) / '(1,)type'.\n",
            "  _np_quint16 = np.dtype([(\"quint16\", np.uint16, 1)])\n",
            "C:\\Users\\Krishna Vamsi\\anaconda3\\envs\\tensorenv\\lib\\site-packages\\tensorboard\\compat\\tensorflow_stub\\dtypes.py:545: FutureWarning: Passing (type, 1) or '1type' as a synonym of type is deprecated; in a future version of numpy, it will be understood as (type, (1,)) / '(1,)type'.\n",
            "  _np_qint32 = np.dtype([(\"qint32\", np.int32, 1)])\n",
            "C:\\Users\\Krishna Vamsi\\anaconda3\\envs\\tensorenv\\lib\\site-packages\\tensorboard\\compat\\tensorflow_stub\\dtypes.py:550: FutureWarning: Passing (type, 1) or '1type' as a synonym of type is deprecated; in a future version of numpy, it will be understood as (type, (1,)) / '(1,)type'.\n",
            "  np_resource = np.dtype([(\"resource\", np.ubyte, 1)])\n"
          ],
          "name": "stderr"
        }
      ]
    },
    {
      "cell_type": "code",
      "metadata": {
        "id": "interested-cheese"
      },
      "source": [
        "def loadImages(path):\n",
        "    sample = []\n",
        "    \n",
        "    for filename in glob.glob(path):\n",
        "        \n",
        "        img = cv2.imread(filename)\n",
        "        img = skimage.transform.resize(img, (224, 224, 3))\n",
        "        IMG = np.array(img)\n",
        "        sample.append(IMG)\n",
        "        \n",
        "    return sample"
      ],
      "id": "interested-cheese",
      "execution_count": null,
      "outputs": []
    },
    {
      "cell_type": "code",
      "metadata": {
        "id": "endangered-mumbai"
      },
      "source": [
        "train_path1 = 'C:/Users/Krishna Vamsi/Desktop/Work/All Labs/Deep Learning/ct/Alzheimer_s Dataset/train/NonDemented/*.jpg' \n",
        "train_path2 = 'C:/Users/Krishna Vamsi/Desktop/Work/All Labs/Deep Learning/ct/Alzheimer_s Dataset/train/VeryMildDemented/*.jpg'\n",
        "train_path3 = 'C:/Users/Krishna Vamsi/Desktop/Work/All Labs/Deep Learning/ct/Alzheimer_s Dataset/train/MildDemented/*.jpg'\n",
        "train_path4 = 'C:/Users/Krishna Vamsi/Desktop/Work/All Labs/Deep Learning/ct/Alzheimer_s Dataset/train/ModerateDemented/*.jpg'\n",
        "\n",
        "test_path1 = 'C:/Users/Krishna Vamsi/Desktop/Work/All Labs/Deep Learning/ct/Alzheimer_s Dataset/test/NonDemented/*.jpg' \n",
        "test_path2 = 'C:/Users/Krishna Vamsi/Desktop/Work/All Labs/Deep Learning/ct/Alzheimer_s Dataset/test/VeryMildDemented/*.jpg'\n",
        "test_path3 = 'C:/Users/Krishna Vamsi/Desktop/Work/All Labs/Deep Learning/ct/Alzheimer_s Dataset/test/MildDemented/*.jpg'\n",
        "test_path4 = 'C:/Users/Krishna Vamsi/Desktop/Work/All Labs/Deep Learning/ct/Alzheimer_s Dataset/test/ModerateDemented/*.jpg'"
      ],
      "id": "endangered-mumbai",
      "execution_count": null,
      "outputs": []
    },
    {
      "cell_type": "code",
      "metadata": {
        "id": "italian-greensboro"
      },
      "source": [
        "train_ND = loadImages(train_path1)\n",
        "train_VMD = loadImages(train_path2)\n",
        "train_MID = loadImages(train_path3)\n",
        "train_MOD = loadImages(train_path4)\n",
        "\n",
        "test_ND = loadImages(test_path1)\n",
        "test_VMD = loadImages(test_path2)\n",
        "test_MID = loadImages(test_path3)\n",
        "test_MOD = loadImages(test_path4)"
      ],
      "id": "italian-greensboro",
      "execution_count": null,
      "outputs": []
    },
    {
      "cell_type": "code",
      "metadata": {
        "id": "running-sympathy"
      },
      "source": [
        "df_train_ND = pd.DataFrame({'image':train_ND, 'label': 'ND'})\n",
        "df_train_VMD = pd.DataFrame({'image':train_VMD, 'label': 'VMD'})\n",
        "df_train_MID = pd.DataFrame({'image':train_MID, 'label': 'MID'})\n",
        "df_train_MOD = pd.DataFrame({'image':train_MOD, 'label': 'MOD'})\n",
        "\n",
        "df_test_ND = pd.DataFrame({'image':test_ND, 'label': 'ND'})\n",
        "df_test_VMD = pd.DataFrame({'image':test_VMD, 'label': 'VMD'})\n",
        "df_test_MID = pd.DataFrame({'image':test_MID, 'label': 'MID'})\n",
        "df_test_MOD = pd.DataFrame({'image':test_MOD, 'label': 'MOD'})"
      ],
      "id": "running-sympathy",
      "execution_count": null,
      "outputs": []
    },
    {
      "cell_type": "code",
      "metadata": {
        "id": "therapeutic-mortality"
      },
      "source": [
        "final_data = [df_train_ND, df_train_VMD, df_train_MID, df_train_MOD, df_test_ND, df_test_VMD, df_test_MID, df_test_MOD]\n",
        "final_data = pd.concat(final_data)"
      ],
      "id": "therapeutic-mortality",
      "execution_count": null,
      "outputs": []
    },
    {
      "cell_type": "code",
      "metadata": {
        "id": "expensive-setup",
        "outputId": "80a7f39b-57ef-43e1-c532-273b296496c8"
      },
      "source": [
        "print(\"Entire data size:\",final_data.shape)"
      ],
      "id": "expensive-setup",
      "execution_count": null,
      "outputs": [
        {
          "output_type": "stream",
          "text": [
            "Entire data size: (6400, 2)\n"
          ],
          "name": "stdout"
        }
      ]
    },
    {
      "cell_type": "code",
      "metadata": {
        "id": "liberal-spotlight"
      },
      "source": [
        "train_data = final_data['image']\n",
        "labels = final_data['label']"
      ],
      "id": "liberal-spotlight",
      "execution_count": null,
      "outputs": []
    },
    {
      "cell_type": "code",
      "metadata": {
        "id": "serial-services",
        "outputId": "762638fd-b2be-4b24-c8d3-b47ea660399f"
      },
      "source": [
        "print(\"Labels Count:\",Counter(np.array(labels)))"
      ],
      "id": "serial-services",
      "execution_count": null,
      "outputs": [
        {
          "output_type": "stream",
          "text": [
            "Labels Count: Counter({'ND': 3200, 'VMD': 2240, 'MID': 896, 'MOD': 64})\n"
          ],
          "name": "stdout"
        }
      ]
    },
    {
      "cell_type": "code",
      "metadata": {
        "id": "instrumental-mixture",
        "outputId": "8ce63bc6-9732-4954-d33e-360c2f767094"
      },
      "source": [
        "onehot = LabelBinarizer()\n",
        "labels = onehot.fit_transform(labels)\n",
        "print(labels)"
      ],
      "id": "instrumental-mixture",
      "execution_count": null,
      "outputs": [
        {
          "output_type": "stream",
          "text": [
            "[[0 0 1 0]\n",
            " [0 0 1 0]\n",
            " [0 0 1 0]\n",
            " ...\n",
            " [0 1 0 0]\n",
            " [0 1 0 0]\n",
            " [0 1 0 0]]\n"
          ],
          "name": "stdout"
        }
      ]
    },
    {
      "cell_type": "code",
      "metadata": {
        "id": "valid-arthritis"
      },
      "source": [
        "X_train, X_test, y_train, y_test = train_test_split(train_data, labels,\n",
        "                                                  test_size = 0.2,\n",
        "                                                  stratify = labels,\n",
        "                                                  shuffle = True,\n",
        "                                                  random_state = 42)"
      ],
      "id": "valid-arthritis",
      "execution_count": null,
      "outputs": []
    },
    {
      "cell_type": "code",
      "metadata": {
        "id": "vocal-rebate",
        "outputId": "881d311d-4b17-45ad-b765-d771da75db46"
      },
      "source": [
        "print('length X_train:', len(X_train))\n",
        "print('length y_train:', len(y_train))\n",
        "\n",
        "print('length X_test:',  len(X_test))\n",
        "print('length y_test:', len(y_test))"
      ],
      "id": "vocal-rebate",
      "execution_count": null,
      "outputs": [
        {
          "output_type": "stream",
          "text": [
            "length X_train: 5120\n",
            "length y_train: 5120\n",
            "length X_test: 1280\n",
            "length y_test: 1280\n"
          ],
          "name": "stdout"
        }
      ]
    },
    {
      "cell_type": "code",
      "metadata": {
        "id": "recreational-equality"
      },
      "source": [
        "X_train = np.array(X_train)\n",
        "X_test = np.array(X_test)"
      ],
      "id": "recreational-equality",
      "execution_count": null,
      "outputs": []
    },
    {
      "cell_type": "code",
      "metadata": {
        "id": "connected-gauge",
        "outputId": "3e0b9a94-5aa4-4453-912d-040d8d9d7a08"
      },
      "source": [
        "x_train= np.empty((len(X_train),X_train[0].shape[0],X_train[0].shape[1],X_train[0].shape[2]))\n",
        "for i,x in enumerate(X_train):\n",
        "    x_train[i]=X_train[i]\n",
        "print(x_train.shape)"
      ],
      "id": "connected-gauge",
      "execution_count": null,
      "outputs": [
        {
          "output_type": "stream",
          "text": [
            "(5120, 224, 224, 3)\n"
          ],
          "name": "stdout"
        }
      ]
    },
    {
      "cell_type": "code",
      "metadata": {
        "id": "upper-visitor",
        "outputId": "0e8d8bc0-b8cf-4c73-d33f-a02a54d1cd45"
      },
      "source": [
        "x_test= np.empty((len(X_test),X_test[0].shape[0],X_test[0].shape[1],X_test[0].shape[2]))\n",
        "for i,x in enumerate(X_test):\n",
        "    x_test[i]=X_test[i]\n",
        "print(x_test.shape)"
      ],
      "id": "upper-visitor",
      "execution_count": null,
      "outputs": [
        {
          "output_type": "stream",
          "text": [
            "(1280, 224, 224, 3)\n"
          ],
          "name": "stdout"
        }
      ]
    },
    {
      "cell_type": "code",
      "metadata": {
        "id": "detailed-syria",
        "outputId": "303a3206-99ce-472c-8590-f02c04f65338"
      },
      "source": [
        "X_train[0].shape"
      ],
      "id": "detailed-syria",
      "execution_count": null,
      "outputs": [
        {
          "output_type": "execute_result",
          "data": {
            "text/plain": [
              "(224, 224, 3)"
            ]
          },
          "metadata": {
            "tags": []
          },
          "execution_count": 16
        }
      ]
    },
    {
      "cell_type": "code",
      "metadata": {
        "id": "collectible-enemy",
        "outputId": "dc3f58a2-7a52-4043-c00e-8a34e021416c"
      },
      "source": [
        "from sklearn.utils import compute_class_weight\n",
        "\n",
        "y_integers = np.argmax(y_train, axis=1)\n",
        "class_weights = compute_class_weight('balanced', np.unique(y_integers), y_integers)\n",
        "d_class_weights = dict(enumerate(class_weights))\n",
        "print(d_class_weights)"
      ],
      "id": "collectible-enemy",
      "execution_count": null,
      "outputs": [
        {
          "output_type": "stream",
          "text": [
            "{0: 1.7852161785216178, 1: 25.098039215686274, 2: 0.5, 3: 0.7142857142857143}\n"
          ],
          "name": "stdout"
        },
        {
          "output_type": "stream",
          "text": [
            "C:\\Users\\Krishna Vamsi\\anaconda3\\envs\\tensorenv\\lib\\site-packages\\sklearn\\utils\\validation.py:72: FutureWarning: Pass classes=[0 1 2 3], y=[3 2 0 ... 2 2 2] as keyword args. From version 1.0 (renaming of 0.25) passing these as positional arguments will result in an error\n",
            "  \"will result in an error\", FutureWarning)\n"
          ],
          "name": "stderr"
        }
      ]
    },
    {
      "cell_type": "code",
      "metadata": {
        "id": "flexible-ocean",
        "outputId": "ba6ccfd7-c125-4b1d-b242-2e108567dd90"
      },
      "source": [
        "def build_model():\n",
        "    \n",
        "    '''Sequential Model creation'''\n",
        "    model = Sequential()\n",
        "    model.add(Conv2D(16,(3,3),padding='same',input_shape = x_train[0].shape))\n",
        "    model.add(Activation('relu'))\n",
        "    model.add(MaxPooling2D(pool_size=(2,2),strides=2,padding = 'same'))\n",
        "\n",
        "    model.add(Conv2D(32,(3,3),padding='same'))\n",
        "    model.add(Activation('relu'))\n",
        "    model.add(MaxPooling2D(pool_size=(2,2),strides=2,padding = 'same'))\n",
        "    \n",
        "    model.add(Flatten())\n",
        "    model.add(Dense(4))\n",
        "    model.add(Activation('softmax'))\n",
        "    \n",
        "    return model\n",
        "\n",
        "model = build_model()\n",
        "model.summary()"
      ],
      "id": "flexible-ocean",
      "execution_count": null,
      "outputs": [
        {
          "output_type": "stream",
          "text": [
            "WARNING:tensorflow:From C:\\Users\\Krishna Vamsi\\anaconda3\\envs\\tensorenv\\lib\\site-packages\\tensorflow\\python\\ops\\init_ops.py:1251: calling VarianceScaling.__init__ (from tensorflow.python.ops.init_ops) with dtype is deprecated and will be removed in a future version.\n",
            "Instructions for updating:\n",
            "Call initializer instance with the dtype argument instead of passing it to the constructor\n",
            "Model: \"sequential\"\n",
            "_________________________________________________________________\n",
            "Layer (type)                 Output Shape              Param #   \n",
            "=================================================================\n",
            "conv2d (Conv2D)              (None, 224, 224, 16)      448       \n",
            "_________________________________________________________________\n",
            "activation (Activation)      (None, 224, 224, 16)      0         \n",
            "_________________________________________________________________\n",
            "max_pooling2d (MaxPooling2D) (None, 112, 112, 16)      0         \n",
            "_________________________________________________________________\n",
            "conv2d_1 (Conv2D)            (None, 112, 112, 32)      4640      \n",
            "_________________________________________________________________\n",
            "activation_1 (Activation)    (None, 112, 112, 32)      0         \n",
            "_________________________________________________________________\n",
            "max_pooling2d_1 (MaxPooling2 (None, 56, 56, 32)        0         \n",
            "_________________________________________________________________\n",
            "flatten (Flatten)            (None, 100352)            0         \n",
            "_________________________________________________________________\n",
            "dense (Dense)                (None, 4)                 401412    \n",
            "_________________________________________________________________\n",
            "activation_2 (Activation)    (None, 4)                 0         \n",
            "=================================================================\n",
            "Total params: 406,500\n",
            "Trainable params: 406,500\n",
            "Non-trainable params: 0\n",
            "_________________________________________________________________\n"
          ],
          "name": "stdout"
        }
      ]
    },
    {
      "cell_type": "code",
      "metadata": {
        "id": "religious-brief"
      },
      "source": [
        "es = EarlyStopping(monitor='val_loss', mode='min', patience=5 ,\n",
        "                   restore_best_weights=True, verbose=1)\n",
        "\n",
        "model.compile(optimizer='adam', loss='categorical_crossentropy',metrics=['acc',tensorflow.keras.metrics.AUC(name = 'auc')])"
      ],
      "id": "religious-brief",
      "execution_count": null,
      "outputs": []
    },
    {
      "cell_type": "code",
      "metadata": {
        "id": "hawaiian-testing",
        "outputId": "1b2c37b1-3740-4425-ba39-45b0a05f561f"
      },
      "source": [
        "history = model.fit(x_train, y_train, epochs=20,batch_size=16, validation_split=0.2,callbacks=[es],class_weight = d_class_weights)"
      ],
      "id": "hawaiian-testing",
      "execution_count": null,
      "outputs": [
        {
          "output_type": "stream",
          "text": [
            "Train on 4096 samples, validate on 1024 samples\n",
            "Epoch 1/20\n",
            "4096/4096 [==============================] - 129s 31ms/sample - loss: 1.5300 - acc: 0.2695 - auc: 0.5471 - val_loss: 1.2694 - val_acc: 0.1924 - val_auc: 0.5634\n",
            "Epoch 2/20\n",
            "4096/4096 [==============================] - 110s 27ms/sample - loss: 1.2058 - acc: 0.4338 - auc: 0.7122 - val_loss: 0.7381 - val_acc: 0.6748 - val_auc: 0.8817\n",
            "Epoch 3/20\n",
            "4096/4096 [==============================] - 109s 27ms/sample - loss: 0.5951 - acc: 0.6953 - auc: 0.9057 - val_loss: 0.4063 - val_acc: 0.8027 - val_auc: 0.9584\n",
            "Epoch 4/20\n",
            "4096/4096 [==============================] - 112s 27ms/sample - loss: 0.2514 - acc: 0.8792 - auc: 0.9807 - val_loss: 0.2513 - val_acc: 0.8896 - val_auc: 0.9836\n",
            "Epoch 5/20\n",
            "4096/4096 [==============================] - 107s 26ms/sample - loss: 0.1065 - acc: 0.9534 - auc: 0.9963 - val_loss: 0.2850 - val_acc: 0.9033 - val_auc: 0.9852\n",
            "Epoch 6/20\n",
            "4096/4096 [==============================] - 132s 32ms/sample - loss: 0.0495 - acc: 0.9841 - auc: 0.9992 - val_loss: 0.1608 - val_acc: 0.8965 - val_auc: 0.9865\n",
            "Epoch 7/20\n",
            "4096/4096 [==============================] - 121s 30ms/sample - loss: 0.0194 - acc: 0.9954 - auc: 0.9999 - val_loss: 0.1140 - val_acc: 0.9512 - val_auc: 0.9954\n",
            "Epoch 8/20\n",
            "4096/4096 [==============================] - 114s 28ms/sample - loss: 0.0076 - acc: 0.9990 - auc: 1.0000 - val_loss: 0.1226 - val_acc: 0.9619 - val_auc: 0.9937\n",
            "Epoch 9/20\n",
            "4096/4096 [==============================] - 107s 26ms/sample - loss: 0.0024 - acc: 1.0000 - auc: 1.0000 - val_loss: 0.1274 - val_acc: 0.9639 - val_auc: 0.9943\n",
            "Epoch 10/20\n",
            "4096/4096 [==============================] - 113s 27ms/sample - loss: 0.0014 - acc: 1.0000 - auc: 1.0000 - val_loss: 0.1263 - val_acc: 0.9629 - val_auc: 0.9945\n",
            "Epoch 11/20\n",
            "4096/4096 [==============================] - 107s 26ms/sample - loss: 8.9564e-04 - acc: 1.0000 - auc: 1.0000 - val_loss: 0.1208 - val_acc: 0.9658 - val_auc: 0.9943\n",
            "Epoch 12/20\n",
            "4080/4096 [============================>.] - ETA: 0s - loss: 6.1353e-04 - acc: 1.0000 - auc: 1.0000Restoring model weights from the end of the best epoch.\n",
            "4096/4096 [==============================] - 105s 26ms/sample - loss: 6.1298e-04 - acc: 1.0000 - auc: 1.0000 - val_loss: 0.1252 - val_acc: 0.9648 - val_auc: 0.9949\n",
            "Epoch 00012: early stopping\n"
          ],
          "name": "stdout"
        }
      ]
    },
    {
      "cell_type": "code",
      "metadata": {
        "id": "pacific-pantyhose",
        "outputId": "0698e701-0f5d-4fe5-fa05-5d392a0b3edd"
      },
      "source": [
        "def Train_Val_Plot(acc,val_acc,loss,val_loss):\n",
        "    \n",
        "    fig, (ax1, ax2) = plt.subplots(1,2, figsize= (15,10))\n",
        "    fig.suptitle(\" MODEL'S METRICS VISUALIZATION \")\n",
        "\n",
        "    ax1.plot(range(1, len(acc) + 1), acc)\n",
        "    ax1.plot(range(1, len(val_acc) + 1), val_acc)\n",
        "    ax1.set_title('History of Accuracy')\n",
        "    ax1.set_xlabel('Epochs')\n",
        "    ax1.set_ylabel('Accuracy')\n",
        "    ax1.legend(['training', 'validation'])\n",
        "\n",
        "\n",
        "    ax2.plot(range(1, len(loss) + 1), loss)\n",
        "    ax2.plot(range(1, len(val_loss) + 1), val_loss)\n",
        "    ax2.set_title('History of Loss')\n",
        "    ax2.set_xlabel('Epochs')\n",
        "    ax2.set_ylabel('Loss')\n",
        "    ax2.legend(['training', 'validation'])\n",
        "    plt.show()\n",
        "    \n",
        "\n",
        "Train_Val_Plot(history.history['acc'],history.history['val_acc'],\n",
        "               history.history['loss'],history.history['val_loss'])"
      ],
      "id": "pacific-pantyhose",
      "execution_count": null,
      "outputs": [
        {
          "output_type": "display_data",
          "data": {
            "image/png": "[encoded data removed]",
            "text/plain": [
              "<Figure size 1080x720 with 2 Axes>"
            ]
          },
          "metadata": {
            "tags": []
          }
        }
      ]
    },
    {
      "cell_type": "code",
      "metadata": {
        "id": "significant-shirt"
      },
      "source": [
        ""
      ],
      "id": "significant-shirt",
      "execution_count": null,
      "outputs": []
    }
  ]
}